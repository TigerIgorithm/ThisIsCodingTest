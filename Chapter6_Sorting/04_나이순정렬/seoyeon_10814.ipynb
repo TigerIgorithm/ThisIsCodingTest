{
 "cells": [
  {
   "cell_type": "code",
   "execution_count": 1,
   "id": "b31367cc",
   "metadata": {},
   "outputs": [
    {
     "name": "stdout",
     "output_type": "stream",
     "text": [
      "3\n"
     ]
    }
   ],
   "source": [
    "N = int(input())"
   ]
  },
  {
   "cell_type": "code",
   "execution_count": 2,
   "id": "5be0d1db",
   "metadata": {},
   "outputs": [
    {
     "name": "stdout",
     "output_type": "stream",
     "text": [
      "21 Junkyu\n",
      "21 Dohyun\n",
      "20 Sunyoung\n"
     ]
    },
    {
     "data": {
      "text/plain": [
       "[[21, 'Junkyu'], [21, 'Dohyun'], [20, 'Sunyoung']]"
      ]
     },
     "execution_count": 2,
     "metadata": {},
     "output_type": "execute_result"
    }
   ],
   "source": [
    "members = []\n",
    "for i in range(N):\n",
    "    age, name = input().split()\n",
    "    age = int(age)\n",
    "    members.append([age, name])\n",
    "members"
   ]
  },
  {
   "cell_type": "code",
   "execution_count": 3,
   "id": "eb7424a6",
   "metadata": {},
   "outputs": [
    {
     "data": {
      "text/plain": [
       "[[20, 'Sunyoung'], [21, 'Junkyu'], [21, 'Dohyun']]"
      ]
     },
     "execution_count": 3,
     "metadata": {},
     "output_type": "execute_result"
    }
   ],
   "source": [
    "members.sort(key=lambda x:x[0])\n",
    "members"
   ]
  },
  {
   "cell_type": "code",
   "execution_count": 4,
   "id": "c2ac8ff0",
   "metadata": {},
   "outputs": [
    {
     "name": "stdout",
     "output_type": "stream",
     "text": [
      "20 Sunyoung\n",
      "21 Junkyu\n",
      "21 Dohyun\n"
     ]
    }
   ],
   "source": [
    "for i in members:\n",
    "    print(i[0], i[1])"
   ]
  }
 ],
 "metadata": {
  "kernelspec": {
   "display_name": "Python 3 (ipykernel)",
   "language": "python",
   "name": "python3"
  },
  "language_info": {
   "codemirror_mode": {
    "name": "ipython",
    "version": 3
   },
   "file_extension": ".py",
   "mimetype": "text/x-python",
   "name": "python",
   "nbconvert_exporter": "python",
   "pygments_lexer": "ipython3",
   "version": "3.9.12"
  }
 },
 "nbformat": 4,
 "nbformat_minor": 5
}
