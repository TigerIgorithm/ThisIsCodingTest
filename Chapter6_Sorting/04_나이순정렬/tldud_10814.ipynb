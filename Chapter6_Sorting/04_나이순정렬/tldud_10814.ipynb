{
 "cells": [
  {
   "cell_type": "code",
   "execution_count": 9,
   "id": "d4ad2239",
   "metadata": {
    "scrolled": true
   },
   "outputs": [
    {
     "name": "stdout",
     "output_type": "stream",
     "text": [
      "3\n",
      "21 Junkyu\n",
      "21 Dohyun\n",
      "20 Sunyoung\n"
     ]
    }
   ],
   "source": [
    "n = int(input())\n",
    "\n",
    "inform =[]\n",
    "for _ in range(n):\n",
    "    age, name = map(str, input().split())\n",
    "    age = int(age)\n",
    "    inform.append((age, name))"
   ]
  },
  {
   "cell_type": "code",
   "execution_count": 10,
   "id": "058da3c8",
   "metadata": {},
   "outputs": [
    {
     "name": "stdout",
     "output_type": "stream",
     "text": [
      "[(21, 'Junkyu'), (21, 'Dohyun'), (20, 'Sunyoung')]\n"
     ]
    }
   ],
   "source": [
    "print(inform)"
   ]
  },
  {
   "cell_type": "code",
   "execution_count": 11,
   "id": "47e461b7",
   "metadata": {},
   "outputs": [
    {
     "name": "stdout",
     "output_type": "stream",
     "text": [
      "[['20', 'Sunyoung'], ['21', 'Junkyu'], ['21', 'Dohyun']]\n"
     ]
    }
   ],
   "source": [
    "sortd = sorted(inform, key=lambda data: data[0])\n",
    "print(sortd)"
   ]
  },
  {
   "cell_type": "code",
   "execution_count": 12,
   "id": "ecc229f9",
   "metadata": {},
   "outputs": [
    {
     "name": "stdout",
     "output_type": "stream",
     "text": [
      "20 Sunyoung\n",
      "21 Junkyu\n",
      "21 Dohyun\n"
     ]
    }
   ],
   "source": [
    "for i in sortd:\n",
    "    print(int(i[0]), i[1])"
   ]
  },
  {
   "cell_type": "code",
   "execution_count": 13,
   "id": "afbd961f",
   "metadata": {},
   "outputs": [
    {
     "name": "stdout",
     "output_type": "stream",
     "text": [
      "3\n",
      "21 Junkyu\n",
      "21 Dohyun\n",
      "20 Sunyoung\n",
      "20 Sunyoung\n",
      "21 Junkyu\n",
      "21 Dohyun\n"
     ]
    }
   ],
   "source": [
    "n = int(input())\n",
    "\n",
    "inform =[]\n",
    "for _ in range(n):\n",
    "    age, name = map(str, input().split())\n",
    "    age = int(age)\n",
    "    inform.append((age, name))\n",
    "    \n",
    "sortd = sorted(inform, key=lambda data: data[0])\n",
    "for i in sortd:\n",
    "    print(i[0], i[1])"
   ]
  }
 ],
 "metadata": {
  "kernelspec": {
   "display_name": "Python 3",
   "language": "python",
   "name": "python3"
  },
  "language_info": {
   "codemirror_mode": {
    "name": "ipython",
    "version": 3
   },
   "file_extension": ".py",
   "mimetype": "text/x-python",
   "name": "python",
   "nbconvert_exporter": "python",
   "pygments_lexer": "ipython3",
   "version": "3.9.2"
  }
 },
 "nbformat": 4,
 "nbformat_minor": 5
}
