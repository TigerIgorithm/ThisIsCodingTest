{
 "cells": [
  {
   "cell_type": "code",
   "execution_count": 1,
   "id": "d7528056",
   "metadata": {},
   "outputs": [],
   "source": [
    "n = 3\n",
    "customer = [[21, 'Junkyu'],\n",
    "           [21, 'Dohyun'], \n",
    "           [20, 'Sunyoung']]"
   ]
  },
  {
   "cell_type": "code",
   "execution_count": 2,
   "id": "8c828368",
   "metadata": {},
   "outputs": [],
   "source": [
    "for i in range(n):\n",
    "    customer[i].append(i)"
   ]
  },
  {
   "cell_type": "code",
   "execution_count": 3,
   "id": "23ca5566",
   "metadata": {},
   "outputs": [
    {
     "data": {
      "text/plain": [
       "[[21, 'Junkyu', 0], [21, 'Dohyun', 1], [20, 'Sunyoung', 2]]"
      ]
     },
     "execution_count": 3,
     "metadata": {},
     "output_type": "execute_result"
    }
   ],
   "source": [
    "customer"
   ]
  },
  {
   "cell_type": "code",
   "execution_count": 6,
   "id": "69d44e9f",
   "metadata": {},
   "outputs": [],
   "source": [
    "customer_print = sorted(customer, key = lambda x : (x[0], x[2]))"
   ]
  },
  {
   "cell_type": "markdown",
   "id": "dac69fd5",
   "metadata": {},
   "source": [
    "- 제출 용 답안"
   ]
  },
  {
   "cell_type": "code",
   "execution_count": 13,
   "id": "99959ded",
   "metadata": {},
   "outputs": [
    {
     "name": "stdout",
     "output_type": "stream",
     "text": [
      "3\n",
      "11 yedam\n",
      "21 seoyeon\n",
      "21 subin\n",
      "11 yedam\n",
      "21 seoyeon\n",
      "21 subin\n"
     ]
    }
   ],
   "source": [
    "n = int(input())\n",
    "customer = []\n",
    "for i in range(n):\n",
    "    age, name = input().split()\n",
    "    customer.append([int(age), name, i])\n",
    "    \n",
    "customer_print = sorted(customer, key = lambda x : (x[0], x[2]))\n",
    "\n",
    "for i in range(n):\n",
    "    print(customer_print[i][0], customer_print[i][1])"
   ]
  },
  {
   "cell_type": "code",
   "execution_count": null,
   "id": "a7efb313",
   "metadata": {},
   "outputs": [],
   "source": []
  }
 ],
 "metadata": {
  "kernelspec": {
   "display_name": "Python 3 (ipykernel)",
   "language": "python",
   "name": "python3"
  },
  "language_info": {
   "codemirror_mode": {
    "name": "ipython",
    "version": 3
   },
   "file_extension": ".py",
   "mimetype": "text/x-python",
   "name": "python",
   "nbconvert_exporter": "python",
   "pygments_lexer": "ipython3",
   "version": "3.9.7"
  }
 },
 "nbformat": 4,
 "nbformat_minor": 5
}
