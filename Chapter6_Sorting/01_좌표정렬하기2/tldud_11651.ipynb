{
 "cells": [
  {
   "cell_type": "code",
   "execution_count": 1,
   "id": "0b75f834",
   "metadata": {},
   "outputs": [
    {
     "name": "stdout",
     "output_type": "stream",
     "text": [
      "5\n",
      "0 4\n",
      "1 2\n",
      "1 -1\n",
      "2 2\n",
      "3 3\n"
     ]
    }
   ],
   "source": [
    "# 점의 개수\n",
    "n = int(input())\n",
    "\n",
    "points = []\n",
    "for _ in range(n):\n",
    "    pnt = list(map(int, input().split()))\n",
    "    points.append(pnt)"
   ]
  },
  {
   "cell_type": "code",
   "execution_count": 2,
   "id": "51d544e5",
   "metadata": {},
   "outputs": [
    {
     "data": {
      "text/plain": [
       "[[0, 4], [1, 2], [1, -1], [2, 2], [3, 3]]"
      ]
     },
     "execution_count": 2,
     "metadata": {},
     "output_type": "execute_result"
    }
   ],
   "source": [
    "points"
   ]
  },
  {
   "cell_type": "code",
   "execution_count": 2,
   "id": "004d04fe",
   "metadata": {},
   "outputs": [
    {
     "name": "stdout",
     "output_type": "stream",
     "text": [
      "[[1, -1], [1, 2], [2, 2], [3, 3], [0, 4]]\n"
     ]
    }
   ],
   "source": [
    "#y좌표 기준으로 정렬\n",
    "sort_p = sorted(points, key =lambda x: (x[1], x[0]))\n",
    "print(sort_p)"
   ]
  },
  {
   "cell_type": "code",
   "execution_count": 3,
   "id": "b4ae3a61",
   "metadata": {},
   "outputs": [
    {
     "name": "stdout",
     "output_type": "stream",
     "text": [
      "1 -1\n",
      "1 2\n",
      "2 2\n",
      "3 3\n",
      "0 4\n"
     ]
    }
   ],
   "source": [
    "for i,j in sort_p:\n",
    "    print(i, j)"
   ]
  }
 ],
 "metadata": {
  "kernelspec": {
   "display_name": "Python 3",
   "language": "python",
   "name": "python3"
  },
  "language_info": {
   "codemirror_mode": {
    "name": "ipython",
    "version": 3
   },
   "file_extension": ".py",
   "mimetype": "text/x-python",
   "name": "python",
   "nbconvert_exporter": "python",
   "pygments_lexer": "ipython3",
   "version": "3.9.2"
  }
 },
 "nbformat": 4,
 "nbformat_minor": 5
}
