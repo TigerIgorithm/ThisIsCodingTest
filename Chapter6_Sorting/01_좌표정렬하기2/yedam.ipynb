{
 "cells": [
  {
   "cell_type": "code",
   "execution_count": null,
   "id": "e722752e",
   "metadata": {},
   "outputs": [],
   "source": [
    "def quick_sort_y(array, start, end):\n",
    "    if start >= end: #원소가 1개인 경우 종료\n",
    "        return\n",
    "    \n",
    "    pivot = start # pivot은 첫번째 원소\n",
    "    left = start + 1\n",
    "    right = end\n",
    "    \n",
    "    while(left <= right):\n",
    "        # pivot보다 큰 데이터를 찾을 때까지 반복\n",
    "        while(left <= end and array[left][1] <= array[pivot][1]):\n",
    "            left += 1\n",
    "        # pivot보다 작은 데이터를 찾을 때까지 반복\n",
    "        while(right > start and array[right][1] >= array[pivot][1]):\n",
    "            right -= 1\n",
    "            \n",
    "        if(left > right): # 엇갈렸다면 작은 데이터와 피벗 교체\n",
    "            array[right], array[pivot] = array[pivot], array[right]\n",
    "            \n",
    "        else: # 엇갈리지 않았다면 작은 데이터와 큰 데이터를 교체\n",
    "            array[left], array[right] = array[right], array[left]\n",
    "        \n",
    "        # 분할 이후 왼쪽 부분과 오른쪽 부분에서 각각 정렬 수행\n",
    "        quick_sort(array, start, right-1)\n",
    "        quick_sort(array, right + 1, end)\n",
    "        \n",
    "    return array"
   ]
  },
  {
   "cell_type": "code",
   "execution_count": null,
   "id": "9e2d22d5",
   "metadata": {},
   "outputs": [],
   "source": [
    "n = int(input())\n",
    "xy = []\n",
    "for _ in range(n):\n",
    "    xy.append(list(map(int, input().split())))"
   ]
  },
  {
   "cell_type": "code",
   "execution_count": null,
   "id": "e1e20ee2",
   "metadata": {},
   "outputs": [],
   "source": [
    "y_sorted = quick_sort_y(xy, 0, n-1)"
   ]
  },
  {
   "cell_type": "code",
   "execution_count": null,
   "id": "1fbb5625",
   "metadata": {},
   "outputs": [],
   "source": [
    "y_sorted"
   ]
  },
  {
   "cell_type": "code",
   "execution_count": null,
   "id": "eb06c126",
   "metadata": {},
   "outputs": [],
   "source": [
    "def quick_sort_x(array, start, end):\n",
    "    if start >= end: #원소가 1개인 경우 종료\n",
    "        return\n",
    "    \n",
    "    pivot = start # pivot은 첫번째 원소\n",
    "    left = start + 1\n",
    "    right = end\n",
    "    \n",
    "    while(left <= right):\n",
    "        # pivot보다 큰 데이터를 찾을 때까지 반복\n",
    "        while(left <= end and array[left][1] == array[pivot][1] and array[left][0]<= array[pivot][1]):\n",
    "            left += 1\n",
    "        # pivot보다 작은 데이터를 찾을 때까지 반복\n",
    "        while(right > start and array[right][0] >= array[pivot][0] and array[pivot][1] == array[right][0]):\n",
    "            right -= 1\n",
    "            \n",
    "        if(left > right): # 엇갈렸다면 작은 데이터와 피벗 교체\n",
    "            array[right], array[pivot] = array[pivot], array[right]\n",
    "            \n",
    "        else: # 엇갈리지 않았다면 작은 데이터와 큰 데이터를 교체\n",
    "            array[left], array[right] = array[right], array[left]\n",
    "        \n",
    "        # 분할 이후 왼쪽 부분과 오른쪽 부분에서 각각 정렬 수행\n",
    "        quick_sort(array, start, right-1)\n",
    "        quick_sort(array, right + 1, end)\n",
    "        \n",
    "    return array"
   ]
  },
  {
   "cell_type": "code",
   "execution_count": null,
   "id": "77f4d9cb",
   "metadata": {},
   "outputs": [],
   "source": [
    "def quick_sort_x(array, start, end):\n",
    "    if start >= end: # 원소가 1개인 경우 종료\n",
    "        return\n",
    "    \n",
    "    pivot = start # pivot은 첫번째 원소\n",
    "    left = start + 1\n",
    "    right = end\n",
    "    \n",
    "    while(left <= right):\n",
    "        # pivot보다 큰 데이터를 찾을 때까지 반복\n",
    "        while(left <= end and (array[left][1] < array[pivot][1] or (\n",
    "            array[left][1] == array[pivot][1] and array[left][0] <= array[pivot][0]))):\n",
    "            left += 1\n",
    "        # pivot보다 작은 데이터를 찾을 때까지 반복\n",
    "        while(right > start and (array[right][1] > array[pivot][1] or (\n",
    "            array[right][1] == array[pivot][1] and array[right][0] >= array[pivot][0]))):\n",
    "            right -= 1\n",
    "            \n",
    "        if(left > right): # 엇갈렸다면 작은 데이터와 피벗 교체\n",
    "            array[right], array[pivot] = array[pivot], array[right]\n",
    "            \n",
    "        else: # 엇갈리지 않았다면 작은 데이터와 큰 데이터를 교체\n",
    "            array[left], array[right] = array[right], array[left]\n",
    "        \n",
    "        # 분할 이후 왼쪽 부분과 오른쪽 부분에서 각각 정렬 수행\n",
    "        quick_sort_x(array, start, right-1)\n",
    "        quick_sort_x(array, right + 1, end)\n",
    "        \n",
    "    return array\n",
    "\n",
    "x_sorted = quick_sort_x(y_sorted, 0, n-1)\n",
    "\n",
    "for x, y in x_sorted:\n",
    "    print(x, y)\n"
   ]
  },
  {
   "cell_type": "code",
   "execution_count": null,
   "id": "2da238a0",
   "metadata": {},
   "outputs": [],
   "source": [
    "result = quick_sort_x(y_sorted, 0, n-1)\n",
    "\n",
    "for numbers in result:\n",
    "    print(numbers[0], numbers[1])"
   ]
  },
  {
   "cell_type": "code",
   "execution_count": 2,
   "id": "aee487e0",
   "metadata": {},
   "outputs": [
    {
     "name": "stdout",
     "output_type": "stream",
     "text": [
      "5\n",
      "2 -1\n",
      "1 -1\n",
      "3 5\n",
      "4 2\n",
      "6 3\n",
      "1 -1\n",
      "2 -1\n",
      "4 2\n",
      "6 3\n",
      "3 5\n"
     ]
    }
   ],
   "source": [
    "n = int(input())\n",
    "xy = []\n",
    "for _ in range(n):\n",
    "    xy.append(list(map(int, input().split())))\n",
    "    \n",
    "def quick_sort_y(array, start, end):\n",
    "    if start >= end: #원소가 1개인 경우 종료\n",
    "        return\n",
    "    \n",
    "    pivot = start # pivot은 첫번째 원소\n",
    "    left = start + 1\n",
    "    right = end\n",
    "    \n",
    "    while(left <= right):\n",
    "        # pivot보다 큰 데이터를 찾을 때까지 반복\n",
    "        while(left <= end and array[left][1] <= array[pivot][1]):\n",
    "            left += 1\n",
    "        # pivot보다 작은 데이터를 찾을 때까지 반복\n",
    "        while(right > start and array[right][1] >= array[pivot][1]):\n",
    "            right -= 1\n",
    "            \n",
    "        if(left > right): # 엇갈렸다면 작은 데이터와 피벗 교체\n",
    "            array[right], array[pivot] = array[pivot], array[right]\n",
    "            \n",
    "        else: # 엇갈리지 않았다면 작은 데이터와 큰 데이터를 교체\n",
    "            array[left], array[right] = array[right], array[left]\n",
    "        \n",
    "        # 분할 이후 왼쪽 부분과 오른쪽 부분에서 각각 정렬 수행\n",
    "        quick_sort_y(array, start, right-1)\n",
    "        quick_sort_y(array, right + 1, end)\n",
    "        \n",
    "    return array\n",
    "\n",
    "y_sorted = quick_sort_y(xy, 0, n-1)\n",
    "def quick_sort_x(array, start, end):\n",
    "    if start >= end: # 원소가 1개인 경우 종료\n",
    "        return\n",
    "    \n",
    "    pivot = start # pivot은 첫번째 원소\n",
    "    left = start + 1\n",
    "    right = end\n",
    "    \n",
    "    while(left <= right):\n",
    "        # pivot보다 큰 데이터를 찾을 때까지 반복\n",
    "        while(left <= end and (array[left][1] < array[pivot][1] or (\n",
    "            array[left][1] == array[pivot][1] and array[left][0] <= array[pivot][0]))):\n",
    "            left += 1\n",
    "        # pivot보다 작은 데이터를 찾을 때까지 반복\n",
    "        while(right > start and (array[right][1] > array[pivot][1] or (\n",
    "            array[right][1] == array[pivot][1] and array[right][0] >= array[pivot][0]))):\n",
    "            right -= 1\n",
    "            \n",
    "        if(left > right): # 엇갈렸다면 작은 데이터와 피벗 교체\n",
    "            array[right], array[pivot] = array[pivot], array[right]\n",
    "            \n",
    "        else: # 엇갈리지 않았다면 작은 데이터와 큰 데이터를 교체\n",
    "            array[left], array[right] = array[right], array[left]\n",
    "        \n",
    "        # 분할 이후 왼쪽 부분과 오른쪽 부분에서 각각 정렬 수행\n",
    "        quick_sort_x(array, start, right-1)\n",
    "        quick_sort_x(array, right + 1, end)\n",
    "        \n",
    "    return array\n",
    "\n",
    "x_sorted = quick_sort_x(y_sorted, 0, n-1)\n",
    "\n",
    "for x, y in x_sorted:\n",
    "    print(x, y)\n"
   ]
  },
  {
   "cell_type": "markdown",
   "id": "a5916093",
   "metadata": {},
   "source": [
    "- 제출 답안"
   ]
  },
  {
   "cell_type": "code",
   "execution_count": 3,
   "id": "8f6fd228",
   "metadata": {},
   "outputs": [
    {
     "name": "stdout",
     "output_type": "stream",
     "text": [
      "5\n",
      "1 -2\n",
      "5 3\n",
      "4 3\n",
      "2 6\n",
      "4 6\n",
      "1 -2\n",
      "4 3\n",
      "5 3\n",
      "2 6\n",
      "4 6\n"
     ]
    }
   ],
   "source": [
    "n = int(input())\n",
    "xy = []\n",
    "\n",
    "for _ in range(n):\n",
    "    xy.append(list(map(int, input().split())))\n",
    "    \n",
    "xy_sorted = sorted(xy, key = lambda x : (x[1], x[0]))\n",
    "\n",
    "for x, y in xy_sorted:\n",
    "    print(x, y)"
   ]
  },
  {
   "cell_type": "code",
   "execution_count": null,
   "id": "0ec9c9a4",
   "metadata": {},
   "outputs": [],
   "source": []
  }
 ],
 "metadata": {
  "kernelspec": {
   "display_name": "Python 3 (ipykernel)",
   "language": "python",
   "name": "python3"
  },
  "language_info": {
   "codemirror_mode": {
    "name": "ipython",
    "version": 3
   },
   "file_extension": ".py",
   "mimetype": "text/x-python",
   "name": "python",
   "nbconvert_exporter": "python",
   "pygments_lexer": "ipython3",
   "version": "3.9.7"
  }
 },
 "nbformat": 4,
 "nbformat_minor": 5
}
