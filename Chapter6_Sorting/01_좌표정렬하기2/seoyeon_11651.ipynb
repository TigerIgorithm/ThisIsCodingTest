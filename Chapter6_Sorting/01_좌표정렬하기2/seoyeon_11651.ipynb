{
 "cells": [
  {
   "cell_type": "code",
   "execution_count": 1,
   "id": "0d801eac",
   "metadata": {},
   "outputs": [
    {
     "name": "stdout",
     "output_type": "stream",
     "text": [
      "5\n"
     ]
    }
   ],
   "source": [
    "N = int(input())"
   ]
  },
  {
   "cell_type": "code",
   "execution_count": 2,
   "id": "d7a94b18",
   "metadata": {},
   "outputs": [
    {
     "name": "stdout",
     "output_type": "stream",
     "text": [
      "0 4\n",
      "1 2\n",
      "1 -1\n",
      "2 2\n",
      "3 3\n"
     ]
    },
    {
     "data": {
      "text/plain": [
       "[[0, 4], [1, 2], [1, -1], [2, 2], [3, 3]]"
      ]
     },
     "execution_count": 2,
     "metadata": {},
     "output_type": "execute_result"
    }
   ],
   "source": [
    "grid = []\n",
    "for i in range(N):\n",
    "    x, y = map(int, input().split())\n",
    "    grid.append([x, y])\n",
    "grid"
   ]
  },
  {
   "cell_type": "code",
   "execution_count": 3,
   "id": "c0392345",
   "metadata": {},
   "outputs": [],
   "source": [
    "grid.sort(key=lambda t: (t[1],t[0]))"
   ]
  },
  {
   "cell_type": "code",
   "execution_count": 4,
   "id": "aa00c15d",
   "metadata": {},
   "outputs": [
    {
     "data": {
      "text/plain": [
       "[[1, -1], [1, 2], [2, 2], [3, 3], [0, 4]]"
      ]
     },
     "execution_count": 4,
     "metadata": {},
     "output_type": "execute_result"
    }
   ],
   "source": [
    "grid"
   ]
  },
  {
   "cell_type": "code",
   "execution_count": 5,
   "id": "53c70545",
   "metadata": {},
   "outputs": [
    {
     "name": "stdout",
     "output_type": "stream",
     "text": [
      "1 -1\n",
      "1 2\n",
      "2 2\n",
      "3 3\n",
      "0 4\n"
     ]
    }
   ],
   "source": [
    "for i, j in grid:\n",
    "    print(i, j)"
   ]
  },
  {
   "cell_type": "code",
   "execution_count": null,
   "id": "5876a63a",
   "metadata": {},
   "outputs": [],
   "source": []
  }
 ],
 "metadata": {
  "kernelspec": {
   "display_name": "Python 3 (ipykernel)",
   "language": "python",
   "name": "python3"
  },
  "language_info": {
   "codemirror_mode": {
    "name": "ipython",
    "version": 3
   },
   "file_extension": ".py",
   "mimetype": "text/x-python",
   "name": "python",
   "nbconvert_exporter": "python",
   "pygments_lexer": "ipython3",
   "version": "3.9.12"
  }
 },
 "nbformat": 4,
 "nbformat_minor": 5
}
