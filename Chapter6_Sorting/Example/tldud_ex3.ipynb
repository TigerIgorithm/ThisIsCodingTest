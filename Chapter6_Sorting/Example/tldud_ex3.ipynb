{
 "cells": [
  {
   "cell_type": "code",
   "execution_count": 1,
   "id": "2d671e2f",
   "metadata": {},
   "outputs": [
    {
     "name": "stdout",
     "output_type": "stream",
     "text": [
      "2\n",
      "홍길동 95\n",
      "이순신 77\n"
     ]
    }
   ],
   "source": [
    "n = int(input())\n",
    "\n",
    "data = []\n",
    "for i in range(n):\n",
    "    std = list(input().split())\n",
    "    data.append(std)"
   ]
  },
  {
   "cell_type": "code",
   "execution_count": 2,
   "id": "e6d3a2e5",
   "metadata": {},
   "outputs": [
    {
     "name": "stdout",
     "output_type": "stream",
     "text": [
      "[['홍길동', '95'], ['이순신', '77']]\n"
     ]
    }
   ],
   "source": [
    "print(data)"
   ]
  },
  {
   "cell_type": "code",
   "execution_count": 11,
   "id": "8c50802e",
   "metadata": {},
   "outputs": [
    {
     "name": "stdout",
     "output_type": "stream",
     "text": [
      "[['이순신', '77'], ['홍길동', '95']]\n"
     ]
    }
   ],
   "source": [
    "sorting = sorted(data, key=lambda data: data[1])\n",
    "print(sorting)"
   ]
  },
  {
   "cell_type": "code",
   "execution_count": 13,
   "id": "8f2d86ff",
   "metadata": {},
   "outputs": [
    {
     "name": "stdout",
     "output_type": "stream",
     "text": [
      "이순신 홍길동 "
     ]
    }
   ],
   "source": [
    "for s in sorting:\n",
    "    print(s[0], end=' ')"
   ]
  }
 ],
 "metadata": {
  "kernelspec": {
   "display_name": "Python 3",
   "language": "python",
   "name": "python3"
  },
  "language_info": {
   "codemirror_mode": {
    "name": "ipython",
    "version": 3
   },
   "file_extension": ".py",
   "mimetype": "text/x-python",
   "name": "python",
   "nbconvert_exporter": "python",
   "pygments_lexer": "ipython3",
   "version": "3.9.2"
  }
 },
 "nbformat": 4,
 "nbformat_minor": 5
}
