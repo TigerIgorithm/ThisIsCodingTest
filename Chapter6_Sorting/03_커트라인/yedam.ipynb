{
 "cells": [
  {
   "cell_type": "code",
   "execution_count": 11,
   "id": "3e64dcf4",
   "metadata": {},
   "outputs": [
    {
     "name": "stdout",
     "output_type": "stream",
     "text": [
      "5 2\n",
      "100 76 85 93 98\n"
     ]
    }
   ],
   "source": [
    "n, k = map(int, input().split())\n",
    "score = list(map(int, input().split()))"
   ]
  },
  {
   "cell_type": "code",
   "execution_count": 16,
   "id": "feee23a2",
   "metadata": {},
   "outputs": [],
   "source": [
    "score.sort(reverse = True)"
   ]
  },
  {
   "cell_type": "code",
   "execution_count": 17,
   "id": "fefd1701",
   "metadata": {},
   "outputs": [
    {
     "data": {
      "text/plain": [
       "[100, 98, 93, 85, 76]"
      ]
     },
     "execution_count": 17,
     "metadata": {},
     "output_type": "execute_result"
    }
   ],
   "source": [
    "score"
   ]
  },
  {
   "cell_type": "markdown",
   "id": "d8c15c86",
   "metadata": {},
   "source": [
    "- 제출 답안"
   ]
  },
  {
   "cell_type": "code",
   "execution_count": null,
   "id": "9b948c34",
   "metadata": {},
   "outputs": [],
   "source": [
    "n, k = map(int, input().split())\n",
    "score = list(map(int, input().split()))\n",
    "\n",
    "score.sort(reverse = True)\n",
    "print(score[k-1])"
   ]
  },
  {
   "cell_type": "code",
   "execution_count": null,
   "id": "52237f2a",
   "metadata": {},
   "outputs": [],
   "source": []
  },
  {
   "cell_type": "code",
   "execution_count": null,
   "id": "ef9d70a0",
   "metadata": {},
   "outputs": [],
   "source": []
  }
 ],
 "metadata": {
  "kernelspec": {
   "display_name": "Python 3 (ipykernel)",
   "language": "python",
   "name": "python3"
  },
  "language_info": {
   "codemirror_mode": {
    "name": "ipython",
    "version": 3
   },
   "file_extension": ".py",
   "mimetype": "text/x-python",
   "name": "python",
   "nbconvert_exporter": "python",
   "pygments_lexer": "ipython3",
   "version": "3.9.7"
  }
 },
 "nbformat": 4,
 "nbformat_minor": 5
}
