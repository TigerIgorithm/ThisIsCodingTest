{
 "cells": [
  {
   "cell_type": "code",
   "execution_count": 1,
   "id": "ebd77d80",
   "metadata": {},
   "outputs": [
    {
     "name": "stdout",
     "output_type": "stream",
     "text": [
      "5\n",
      "ABCD\n",
      "145C\n",
      "A\n",
      "A910\n",
      "Z321\n"
     ]
    }
   ],
   "source": [
    "# 기타의 개수 \n",
    "n = int(input())\n",
    "\n",
    "guitar = []\n",
    "for _ in range(n):\n",
    "    num = input()\n",
    "    guitar.append([num, len(num)])"
   ]
  },
  {
   "cell_type": "code",
   "execution_count": 2,
   "id": "48001046",
   "metadata": {},
   "outputs": [
    {
     "name": "stdout",
     "output_type": "stream",
     "text": [
      "[['ABCD', 4, 0], ['145C', 4, 10], ['A', 1, 0], ['A910', 4, 10], ['Z321', 4, 6]]\n"
     ]
    }
   ],
   "source": [
    "# 모든 자리수의 합 추가\n",
    "import re\n",
    "for i in range(n):\n",
    "    guitar[i].append(sum(list(map(int, re.findall(r'\\d', guitar[i][0])))))\n",
    "    \n",
    "print(guitar)"
   ]
  },
  {
   "cell_type": "code",
   "execution_count": 3,
   "id": "8e114733",
   "metadata": {},
   "outputs": [
    {
     "data": {
      "text/plain": [
       "[['A', 1, 0], ['ABCD', 4, 0], ['Z321', 4, 6], ['145C', 4, 10], ['A910', 4, 10]]"
      ]
     },
     "execution_count": 3,
     "metadata": {},
     "output_type": "execute_result"
    }
   ],
   "source": [
    "guitar_sort = sorted(guitar, key= lambda x: (x[1], x[2], x[0]))\n",
    "guitar_sort"
   ]
  },
  {
   "cell_type": "code",
   "execution_count": 4,
   "id": "1bfea302",
   "metadata": {},
   "outputs": [
    {
     "name": "stdout",
     "output_type": "stream",
     "text": [
      "A\n",
      "ABCD\n",
      "Z321\n",
      "145C\n",
      "A910\n"
     ]
    }
   ],
   "source": [
    "for i in guitar_sort:\n",
    "    print(i[0])"
   ]
  },
  {
   "cell_type": "code",
   "execution_count": null,
   "id": "cb56ddfa",
   "metadata": {},
   "outputs": [],
   "source": []
  }
 ],
 "metadata": {
  "kernelspec": {
   "display_name": "Python 3",
   "language": "python",
   "name": "python3"
  },
  "language_info": {
   "codemirror_mode": {
    "name": "ipython",
    "version": 3
   },
   "file_extension": ".py",
   "mimetype": "text/x-python",
   "name": "python",
   "nbconvert_exporter": "python",
   "pygments_lexer": "ipython3",
   "version": "3.9.2"
  }
 },
 "nbformat": 4,
 "nbformat_minor": 5
}
