{
 "cells": [
  {
   "cell_type": "code",
   "execution_count": 20,
   "id": "ebd77d80",
   "metadata": {},
   "outputs": [
    {
     "name": "stdout",
     "output_type": "stream",
     "text": [
      "4\n",
      "34H2BJS6N\n",
      "PIM12MD7RCOLWW09\n",
      "PYF1J14TF\n",
      "FIPJOTEA5\n"
     ]
    }
   ],
   "source": [
    "# 기타의 개수 \n",
    "n = int(input())\n",
    "\n",
    "snum = []\n",
    "for _ in range(n):\n",
    "    num = input()\n",
    "    snum.append(num)\n",
    "    \n"
   ]
  },
  {
   "cell_type": "code",
   "execution_count": 21,
   "id": "48001046",
   "metadata": {},
   "outputs": [
    {
     "data": {
      "text/plain": [
       "['34H2BJS6N', 'PIM12MD7RCOLWW09', 'PYF1J14TF', 'FIPJOTEA5']"
      ]
     },
     "execution_count": 21,
     "metadata": {},
     "output_type": "execute_result"
    }
   ],
   "source": [
    "import copy\n",
    "copynum = copy.deepcopy(snum)\n",
    "copynum\n"
   ]
  },
  {
   "cell_type": "code",
   "execution_count": 34,
   "id": "952f7064",
   "metadata": {},
   "outputs": [
    {
     "data": {
      "text/plain": [
       "['34H2BJS6N', 'PYF1J14TF', 'FIPJOTEA5', 'PIM12MD7RCOLWW09']"
      ]
     },
     "execution_count": 34,
     "metadata": {},
     "output_type": "execute_result"
    }
   ],
   "source": [
    "# 1번 조건: 길이가 짧은 것이 먼저 온다.\n",
    "scn = sorted(copynum, key = lambda x : len(x))\n",
    "scn"
   ]
  },
  {
   "cell_type": "code",
   "execution_count": 52,
   "id": "8152e939",
   "metadata": {},
   "outputs": [],
   "source": [
    "# 2번 조건 : 길이가 같다면 시리얼 번호에 포함된 숫자의 합이 작은 것부터\n",
    "import re\n",
    "\n",
    "tu = []\n",
    "sumint = [] # 각 요소에 포함된 숫자의 합을 넣을 리스트\n",
    "for i in scn:\n",
    "    intu =[]\n",
    "    ssum = 0\n",
    "    stri = re.findall(r'\\d', i)\n",
    "    for j in stri:\n",
    "        j = int(j)\n",
    "        ssum += j\n",
    "    sumint.append(ssum)\n",
    "    intu.append(i)\n",
    "    intu.append(ssum)\n",
    "    tu.append(intu)\n"
   ]
  },
  {
   "cell_type": "code",
   "execution_count": 56,
   "id": "1bfea302",
   "metadata": {},
   "outputs": [
    {
     "name": "stdout",
     "output_type": "stream",
     "text": [
      "['FIPJOTEA5', 'PYF1J14TF', '34H2BJS6N', 'PIM12MD7RCOLWW09']\n"
     ]
    }
   ],
   "source": [
    "tu.sort(key = lambda x : x[1])\n",
    "\n",
    "res = []\n",
    "for k in tu:\n",
    "    res.append(k[0])\n",
    "print(res)"
   ]
  },
  {
   "cell_type": "code",
   "execution_count": 57,
   "id": "05e5000d",
   "metadata": {},
   "outputs": [],
   "source": [
    "# 2번 조건 함수 만들기 \n",
    "def con2(li):\n",
    "    import re\n",
    "\n",
    "    tu = []\n",
    "    sumint = [] # 각 요소에 포함된 숫자의 합을 넣을 리스트\n",
    "    for i in scn:\n",
    "        intu =[]\n",
    "        ssum = 0\n",
    "        stri = re.findall(r'\\d', i)\n",
    "        for j in stri:\n",
    "            j = int(j)\n",
    "            ssum += j\n",
    "        sumint.append(ssum)\n",
    "        intu.append(i)\n",
    "        intu.append(ssum)\n",
    "        tu.append(intu)\n",
    "    tu.sort(key = lambda x : x[1])\n",
    "    res = []\n",
    "    for k in tu:\n",
    "        res.append(k[0])\n",
    "    return res\n"
   ]
  }
 ],
 "metadata": {
  "kernelspec": {
   "display_name": "Python 3",
   "language": "python",
   "name": "python3"
  },
  "language_info": {
   "codemirror_mode": {
    "name": "ipython",
    "version": 3
   },
   "file_extension": ".py",
   "mimetype": "text/x-python",
   "name": "python",
   "nbconvert_exporter": "python",
   "pygments_lexer": "ipython3",
   "version": "3.9.2"
  }
 },
 "nbformat": 4,
 "nbformat_minor": 5
}
