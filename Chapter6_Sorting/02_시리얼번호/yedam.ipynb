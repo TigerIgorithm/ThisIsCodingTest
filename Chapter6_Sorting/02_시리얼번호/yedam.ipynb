{
 "cells": [
  {
   "cell_type": "code",
   "execution_count": null,
   "id": "03cd081f",
   "metadata": {},
   "outputs": [],
   "source": [
    "str_list = ['ACDE', 'ABCD','145C','A', 'A910', 'Z321' ]"
   ]
  },
  {
   "cell_type": "code",
   "execution_count": null,
   "id": "ff70e23a",
   "metadata": {},
   "outputs": [],
   "source": [
    "str_list"
   ]
  },
  {
   "cell_type": "markdown",
   "id": "56b9dd23",
   "metadata": {},
   "source": [
    "1. 문자열 길이 추가"
   ]
  },
  {
   "cell_type": "code",
   "execution_count": null,
   "id": "b8bfd5a7",
   "metadata": {},
   "outputs": [],
   "source": [
    "guitar = []\n",
    "for string in str_list:\n",
    "    guitar.append([string, len(string)])"
   ]
  },
  {
   "cell_type": "code",
   "execution_count": null,
   "id": "838a7e1f",
   "metadata": {},
   "outputs": [],
   "source": [
    "guitar"
   ]
  },
  {
   "cell_type": "markdown",
   "id": "08a2d2c0",
   "metadata": {},
   "source": [
    "2. 문자열 길이 추가"
   ]
  },
  {
   "cell_type": "code",
   "execution_count": null,
   "id": "b13da3c3",
   "metadata": {},
   "outputs": [],
   "source": [
    "import re\n",
    "\n",
    "for i in range(len(guitar)):\n",
    "    numbers = []\n",
    "    temp = guitar[i][0]\n",
    "    num = re.sub(r\"[^0-9]\", \"\", temp)\n",
    "    numbers = list(map(int, list(num)))\n",
    "    \n",
    "    if numbers == []:\n",
    "        guitar[i].append(\"\")\n",
    "    else:\n",
    "        guitar[i].append(sum(numbers))"
   ]
  },
  {
   "cell_type": "code",
   "execution_count": null,
   "id": "94703bf6",
   "metadata": {},
   "outputs": [],
   "source": [
    "guitar"
   ]
  },
  {
   "cell_type": "code",
   "execution_count": null,
   "id": "9e3e9cb7",
   "metadata": {},
   "outputs": [],
   "source": [
    "guitar_print = sorted(guitar, key = lambda x : (x[1], x[2], x[0]))"
   ]
  },
  {
   "cell_type": "code",
   "execution_count": null,
   "id": "67e62abf",
   "metadata": {},
   "outputs": [],
   "source": [
    "guitar_print"
   ]
  },
  {
   "cell_type": "markdown",
   "id": "1446ff58",
   "metadata": {},
   "source": [
    "- 제출 답안"
   ]
  },
  {
   "cell_type": "code",
   "execution_count": 16,
   "id": "5c974b4a",
   "metadata": {},
   "outputs": [
    {
     "name": "stdout",
     "output_type": "stream",
     "text": [
      "2\n",
      "11\n",
      "3A\n",
      "11\n",
      "3A\n"
     ]
    }
   ],
   "source": [
    "n = int(input())\n",
    "str_list = []\n",
    "for _ in range(n):\n",
    "    str_list.append(input())\n",
    "\n",
    "guitar = []\n",
    "for string in str_list:\n",
    "    guitar.append([string, len(string)])\n",
    "\n",
    "import re\n",
    "\n",
    "for i in range(len(guitar)):\n",
    "    numbers = []\n",
    "    temp = guitar[i][0]\n",
    "    num = re.sub(r\"[^0-9]\", \"\", temp)\n",
    "    numbers = list(map(int, list(num)))\n",
    "    \n",
    "    guitar[i].append(sum(numbers))\n",
    "    \n",
    "guitar_print = sorted(guitar, key = lambda x : (x[1], x[2], x[0]))\n",
    "\n",
    "for i in range(n):\n",
    "    print(guitar_print[i][0])"
   ]
  }
 ],
 "metadata": {
  "kernelspec": {
   "display_name": "Python 3 (ipykernel)",
   "language": "python",
   "name": "python3"
  },
  "language_info": {
   "codemirror_mode": {
    "name": "ipython",
    "version": 3
   },
   "file_extension": ".py",
   "mimetype": "text/x-python",
   "name": "python",
   "nbconvert_exporter": "python",
   "pygments_lexer": "ipython3",
   "version": "3.9.7"
  }
 },
 "nbformat": 4,
 "nbformat_minor": 5
}
