{
 "cells": [
  {
   "cell_type": "code",
   "execution_count": 1,
   "id": "85d59398",
   "metadata": {},
   "outputs": [
    {
     "name": "stdout",
     "output_type": "stream",
     "text": [
      "5\n"
     ]
    }
   ],
   "source": [
    "N = int(input())"
   ]
  },
  {
   "cell_type": "code",
   "execution_count": 2,
   "id": "355c2b17",
   "metadata": {},
   "outputs": [
    {
     "name": "stdout",
     "output_type": "stream",
     "text": [
      "ABCD\n",
      "145C\n",
      "A\n",
      "A910\n",
      "Z321\n"
     ]
    },
    {
     "data": {
      "text/plain": [
       "[['ABCD', 4], ['145C', 4], ['A', 1], ['A910', 4], ['Z321', 4]]"
      ]
     },
     "execution_count": 2,
     "metadata": {},
     "output_type": "execute_result"
    }
   ],
   "source": [
    "guitar = []\n",
    "for i in range(N):\n",
    "    si = input()\n",
    "    guitar.append([si, len(si)])\n",
    "    \n",
    "guitar"
   ]
  },
  {
   "cell_type": "code",
   "execution_count": 3,
   "id": "0caf943c",
   "metadata": {},
   "outputs": [
    {
     "name": "stdout",
     "output_type": "stream",
     "text": [
      "[['ABCD', 4, 0], ['145C', 4, 10], ['A', 1, 0], ['A910', 4, 10], ['Z321', 4, 6]]\n"
     ]
    }
   ],
   "source": [
    "# 모든 자리수의 합 추가\n",
    "import re\n",
    "for i in range(N):\n",
    "    guitar[i].append(sum(list(map(int, re.findall(r'\\d', guitar[i][0])))))\n",
    "    \n",
    "print(guitar)"
   ]
  },
  {
   "cell_type": "code",
   "execution_count": 4,
   "id": "babb8718",
   "metadata": {},
   "outputs": [
    {
     "data": {
      "text/plain": [
       "[['A', 1, 0], ['ABCD', 4, 0], ['Z321', 4, 6], ['145C', 4, 10], ['A910', 4, 10]]"
      ]
     },
     "execution_count": 4,
     "metadata": {},
     "output_type": "execute_result"
    }
   ],
   "source": [
    "# 길이와 자리수의 합과 사전순을 기준으로 정렬\n",
    "\n",
    "guitar_sort = sorted(guitar, key = lambda x :(x[1], x[2], x[0]))\n",
    "guitar_sort"
   ]
  },
  {
   "cell_type": "code",
   "execution_count": 5,
   "id": "4149d305",
   "metadata": {},
   "outputs": [
    {
     "name": "stdout",
     "output_type": "stream",
     "text": [
      "A\n",
      "ABCD\n",
      "Z321\n",
      "145C\n",
      "A910\n"
     ]
    }
   ],
   "source": [
    "for i in guitar_sort:\n",
    "    print(i[0])"
   ]
  }
 ],
 "metadata": {
  "kernelspec": {
   "display_name": "Python 3 (ipykernel)",
   "language": "python",
   "name": "python3"
  },
  "language_info": {
   "codemirror_mode": {
    "name": "ipython",
    "version": 3
   },
   "file_extension": ".py",
   "mimetype": "text/x-python",
   "name": "python",
   "nbconvert_exporter": "python",
   "pygments_lexer": "ipython3",
   "version": "3.9.12"
  }
 },
 "nbformat": 4,
 "nbformat_minor": 5
}
