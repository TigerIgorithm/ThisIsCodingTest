{
 "cells": [
  {
   "cell_type": "code",
   "execution_count": 8,
   "id": "9ccd47f6",
   "metadata": {},
   "outputs": [
    {
     "name": "stdout",
     "output_type": "stream",
     "text": [
      "4 6\n",
      "19 15 10 17\n"
     ]
    }
   ],
   "source": [
    "# 떡의 개수, 가져갈 떡의 길이\n",
    "n, m = map(int, input().split())\n",
    "data = list(map(int, input().split()))"
   ]
  },
  {
   "cell_type": "code",
   "execution_count": 12,
   "id": "c5532819",
   "metadata": {},
   "outputs": [
    {
     "name": "stdout",
     "output_type": "stream",
     "text": [
      "[0, 0, 0, 0]\n",
      "[1, 0, 0, 0]\n",
      "[2, 0, 0, 0]\n",
      "[3, 0, 0, 1]\n",
      "[4, 0, 0, 2]\n"
     ]
    },
    {
     "data": {
      "text/plain": [
       "15"
      ]
     },
     "execution_count": 12,
     "metadata": {},
     "output_type": "execute_result"
    }
   ],
   "source": [
    "# data의 최댓값\n",
    "maxd = max(data)\n",
    "\n",
    "h = maxd\n",
    "while True:\n",
    "    midres = []\n",
    "    for i in data:\n",
    "        new = i-h\n",
    "        if new > 0:\n",
    "            midres.append(new)\n",
    "        elif new == 0 or new < 0:\n",
    "            midres.append(0)\n",
    "    print(midres)\n",
    "    if sum(midres) == m:\n",
    "        break\n",
    "    h -= 1\n",
    "    \n",
    "h"
   ]
  },
  {
   "cell_type": "code",
   "execution_count": 13,
   "id": "105f7dde",
   "metadata": {},
   "outputs": [
    {
     "name": "stdout",
     "output_type": "stream",
     "text": [
      "4 6\n",
      "19 15 10 17\n"
     ]
    }
   ],
   "source": [
    "# 이진탐색으로 풀기\n",
    "# 떡의 개수, 가져갈 떡의 길이\n",
    "n, m = map(int, input().split())\n",
    "data = list(map(int, input().split()))"
   ]
  },
  {
   "cell_type": "code",
   "execution_count": 14,
   "id": "a78d5c7e",
   "metadata": {},
   "outputs": [
    {
     "name": "stdout",
     "output_type": "stream",
     "text": [
      "15\n"
     ]
    }
   ],
   "source": [
    "# data의 최댓값\n",
    "start = 0\n",
    "end = max(data)\n",
    "\n",
    "result = 0\n",
    "while(start <= end):\n",
    "    total = 0\n",
    "    mid = (start + end) //2\n",
    "    for x in data:\n",
    "        if x > mid:\n",
    "            total += x - mid\n",
    "    if total < m:\n",
    "        end = mid - 1\n",
    "    else:\n",
    "        result = mid\n",
    "        start = mid + 1\n",
    "print(result)"
   ]
  }
 ],
 "metadata": {
  "kernelspec": {
   "display_name": "Python 3",
   "language": "python",
   "name": "python3"
  },
  "language_info": {
   "codemirror_mode": {
    "name": "ipython",
    "version": 3
   },
   "file_extension": ".py",
   "mimetype": "text/x-python",
   "name": "python",
   "nbconvert_exporter": "python",
   "pygments_lexer": "ipython3",
   "version": "3.9.2"
  }
 },
 "nbformat": 4,
 "nbformat_minor": 5
}
