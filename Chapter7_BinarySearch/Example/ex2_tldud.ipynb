{
 "cells": [
  {
   "cell_type": "code",
   "execution_count": 1,
   "id": "deffc9de",
   "metadata": {},
   "outputs": [
    {
     "name": "stdout",
     "output_type": "stream",
     "text": [
      "5\n",
      "8 3 7 9 2\n",
      "3\n",
      "5 7 9\n"
     ]
    }
   ],
   "source": [
    "n = int(input())\n",
    "n_data = list(map(int, input().split()))\n",
    "\n",
    "m = int(input())\n",
    "m_data = list(map(int, input().split()))"
   ]
  },
  {
   "cell_type": "code",
   "execution_count": 2,
   "id": "af1879c4",
   "metadata": {},
   "outputs": [],
   "source": [
    "# 순차 탐색 함수\n",
    "def seq_search(n, array, target):\n",
    "    for i in range(n):\n",
    "        if array[i] == target:\n",
    "            return \"yes\"\n"
   ]
  },
  {
   "cell_type": "code",
   "execution_count": 4,
   "id": "4b60bc03",
   "metadata": {},
   "outputs": [
    {
     "name": "stdout",
     "output_type": "stream",
     "text": [
      "no yes yes\n"
     ]
    }
   ],
   "source": [
    "res = []\n",
    "for k in m_data:\n",
    "    resf = seq_search(n, n_data, k)\n",
    "    if resf == \"yes\":\n",
    "        res.append(resf)\n",
    "    else:\n",
    "        res.append(\"no\")\n",
    "\n",
    "print(*res)"
   ]
  }
 ],
 "metadata": {
  "kernelspec": {
   "display_name": "Python 3",
   "language": "python",
   "name": "python3"
  },
  "language_info": {
   "codemirror_mode": {
    "name": "ipython",
    "version": 3
   },
   "file_extension": ".py",
   "mimetype": "text/x-python",
   "name": "python",
   "nbconvert_exporter": "python",
   "pygments_lexer": "ipython3",
   "version": "3.9.2"
  }
 },
 "nbformat": 4,
 "nbformat_minor": 5
}
