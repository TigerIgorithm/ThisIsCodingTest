{
 "cells": [
  {
   "cell_type": "markdown",
   "id": "1f5bf842",
   "metadata": {},
   "source": [
    "알파벳 대소문자로 된 단어가 주어지면, \n",
    "이 단어에서 가장 많이 사용된 알파벳이 무엇인지 알아내는 프로그램을 작성하시오. 단, 대문자와 소문자를 구분하지 않는다."
   ]
  },
  {
   "cell_type": "code",
   "execution_count": 8,
   "id": "8e9da514",
   "metadata": {},
   "outputs": [],
   "source": [
    "abc_list = list(\"ABCDEFGHIJKLMNOPQRSTUVWXYZ\")\n",
    "count = [0]*26"
   ]
  },
  {
   "cell_type": "code",
   "execution_count": 9,
   "id": "7403c7b2",
   "metadata": {},
   "outputs": [
    {
     "name": "stdout",
     "output_type": "stream",
     "text": [
      "baaa\n"
     ]
    }
   ],
   "source": [
    "word = str(input())"
   ]
  },
  {
   "cell_type": "code",
   "execution_count": 10,
   "id": "66b79171",
   "metadata": {},
   "outputs": [
    {
     "data": {
      "text/plain": [
       "'BAAA'"
      ]
     },
     "execution_count": 10,
     "metadata": {},
     "output_type": "execute_result"
    }
   ],
   "source": [
    "word1 = word.upper()\n",
    "word1"
   ]
  },
  {
   "cell_type": "code",
   "execution_count": 11,
   "id": "a5492dda",
   "metadata": {},
   "outputs": [
    {
     "name": "stdout",
     "output_type": "stream",
     "text": [
      "결과값: A\n"
     ]
    }
   ],
   "source": [
    "word_index = []\n",
    "\n",
    "# 입력받은 문자열 내 문자들의 알파벳 순서(인덱스) 찾기\n",
    "for i in word1:\n",
    "    word_index.append(abc_list.index(i))\n",
    "    \n",
    "for i in word_index:\n",
    "    count[i] += 1\n",
    "\n",
    "# 최댓값이 여러 개 존재하는 경우 처리\n",
    "mlist = list(filter(lambda x: count[x] == max(count), range(len(count))))\n",
    "\n",
    "if len(mlist) >= 2:\n",
    "    output = \"?\"\n",
    "else:\n",
    "    maxin = count.index(max(count))\n",
    "    output = abc_list[maxin].upper()\n",
    "print(\"결과값:\", output)"
   ]
  }
 ],
 "metadata": {
  "kernelspec": {
   "display_name": "Python 3",
   "language": "python",
   "name": "python3"
  },
  "language_info": {
   "codemirror_mode": {
    "name": "ipython",
    "version": 3
   },
   "file_extension": ".py",
   "mimetype": "text/x-python",
   "name": "python",
   "nbconvert_exporter": "python",
   "pygments_lexer": "ipython3",
   "version": "3.9.2"
  }
 },
 "nbformat": 4,
 "nbformat_minor": 5
}
