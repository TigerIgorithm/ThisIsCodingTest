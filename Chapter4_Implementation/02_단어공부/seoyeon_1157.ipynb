{
 "cells": [
  {
   "cell_type": "markdown",
   "id": "b4dddfff",
   "metadata": {},
   "source": [
    "## 백준 1157번: 단어 공부"
   ]
  },
  {
   "cell_type": "code",
   "execution_count": 1,
   "id": "c3a9663e",
   "metadata": {},
   "outputs": [
    {
     "name": "stdout",
     "output_type": "stream",
     "text": [
      "Mississipi\n"
     ]
    }
   ],
   "source": [
    "word = input()"
   ]
  },
  {
   "cell_type": "code",
   "execution_count": 2,
   "id": "5822ea15",
   "metadata": {},
   "outputs": [
    {
     "data": {
      "text/plain": [
       "'MISSISSIPI'"
      ]
     },
     "execution_count": 2,
     "metadata": {},
     "output_type": "execute_result"
    }
   ],
   "source": [
    "# 결국의 출력값은 대문자이므로 word를 전부 대문자로 바꿈\n",
    "word = word.upper()\n",
    "word"
   ]
  },
  {
   "cell_type": "code",
   "execution_count": 3,
   "id": "79b3fb63",
   "metadata": {},
   "outputs": [
    {
     "data": {
      "text/plain": [
       "['S', 'I', 'M', 'P']"
      ]
     },
     "execution_count": 3,
     "metadata": {},
     "output_type": "execute_result"
    }
   ],
   "source": [
    "word_split = list(set(word))\n",
    "word_split"
   ]
  },
  {
   "cell_type": "code",
   "execution_count": 4,
   "id": "22b12176",
   "metadata": {},
   "outputs": [
    {
     "name": "stdout",
     "output_type": "stream",
     "text": [
      "[4, 4, 1, 1]\n"
     ]
    }
   ],
   "source": [
    "wordcount = []\n",
    "\n",
    "for i in word_split:\n",
    "    wordcount.append(word.count(i))\n",
    "\n",
    "print(wordcount)"
   ]
  },
  {
   "cell_type": "code",
   "execution_count": 5,
   "id": "609da9f0",
   "metadata": {},
   "outputs": [
    {
     "name": "stdout",
     "output_type": "stream",
     "text": [
      "?\n"
     ]
    }
   ],
   "source": [
    "if wordcount.count(max(wordcount)) >= 2:\n",
    "    print('?')\n",
    "else:\n",
    "    print(word_split[wordcount.index(max(wordcount))])"
   ]
  }
 ],
 "metadata": {
  "kernelspec": {
   "display_name": "Python 3 (ipykernel)",
   "language": "python",
   "name": "python3"
  },
  "language_info": {
   "codemirror_mode": {
    "name": "ipython",
    "version": 3
   },
   "file_extension": ".py",
   "mimetype": "text/x-python",
   "name": "python",
   "nbconvert_exporter": "python",
   "pygments_lexer": "ipython3",
   "version": "3.9.12"
  }
 },
 "nbformat": 4,
 "nbformat_minor": 5
}
