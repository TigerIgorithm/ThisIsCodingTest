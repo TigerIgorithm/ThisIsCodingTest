{
 "cells": [
  {
   "cell_type": "markdown",
   "id": "76f4c80b",
   "metadata": {},
   "source": [
    "## 백준 1157"
   ]
  },
  {
   "cell_type": "markdown",
   "id": "f9f28d99",
   "metadata": {},
   "source": [
    "23/03/14"
   ]
  },
  {
   "cell_type": "markdown",
   "id": "4179c4d4",
   "metadata": {},
   "source": [
    "### dict로 변환하는 방법\n",
    "dict.fromkeys(word)"
   ]
  },
  {
   "cell_type": "code",
   "execution_count": 8,
   "id": "a708a61d",
   "metadata": {},
   "outputs": [
    {
     "name": "stdout",
     "output_type": "stream",
     "text": [
      "baaa\n",
      "A\n"
     ]
    }
   ],
   "source": [
    "input_string = input()\n",
    "\n",
    "def max_char(input_string):\n",
    "    input_string = input_string.upper()\n",
    "    \n",
    "    # 중복 제거 후 리스트에 넣기\n",
    "    not_dupli = ''.join(dict.fromkeys(input_string))\n",
    "    not_dupli = list(not_dupli)\n",
    "    \n",
    "    # 각 문자가 몇 개인지 담을 list\n",
    "    char_cnt = []\n",
    "    for char in not_dupli:\n",
    "        char_cnt.append(input_string.count(char))\n",
    "\n",
    "    max_cnt = char_cnt.index(max(char_cnt))\n",
    "    result = not_dupli[max_cnt]\n",
    "\n",
    "    if char_cnt.count(max(char_cnt)) > 1:\n",
    "        result = '?'\n",
    "    return result\n",
    "\n",
    "print(max_char(input_string))\n"
   ]
  },
  {
   "cell_type": "code",
   "execution_count": null,
   "id": "542a2a0a",
   "metadata": {},
   "outputs": [],
   "source": []
  }
 ],
 "metadata": {
  "kernelspec": {
   "display_name": "Python 3 (ipykernel)",
   "language": "python",
   "name": "python3"
  },
  "language_info": {
   "codemirror_mode": {
    "name": "ipython",
    "version": 3
   },
   "file_extension": ".py",
   "mimetype": "text/x-python",
   "name": "python",
   "nbconvert_exporter": "python",
   "pygments_lexer": "ipython3",
   "version": "3.9.7"
  }
 },
 "nbformat": 4,
 "nbformat_minor": 5
}
