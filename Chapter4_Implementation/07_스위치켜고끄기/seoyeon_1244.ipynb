{
 "cells": [
  {
   "cell_type": "code",
   "execution_count": 1,
   "id": "c9b1746c",
   "metadata": {},
   "outputs": [
    {
     "name": "stdout",
     "output_type": "stream",
     "text": [
      "8\n"
     ]
    }
   ],
   "source": [
    "# 스위치 개수\n",
    "NUM = int(input())"
   ]
  },
  {
   "cell_type": "code",
   "execution_count": 2,
   "id": "df5fc3cf",
   "metadata": {},
   "outputs": [
    {
     "name": "stdout",
     "output_type": "stream",
     "text": [
      "0 1 0 1 0 0 0 1\n"
     ]
    }
   ],
   "source": [
    "# 스위치의 첫 상태\n",
    "state = list(map(int, input().split()))"
   ]
  },
  {
   "cell_type": "code",
   "execution_count": 3,
   "id": "cec39e83",
   "metadata": {},
   "outputs": [
    {
     "name": "stdout",
     "output_type": "stream",
     "text": [
      "2\n"
     ]
    }
   ],
   "source": [
    "# 학생 수\n",
    "student = int(input())"
   ]
  },
  {
   "cell_type": "code",
   "execution_count": 4,
   "id": "83daa88c",
   "metadata": {},
   "outputs": [
    {
     "name": "stdout",
     "output_type": "stream",
     "text": [
      "1 3\n",
      "[0, 1, 1, 1, 0, 1, 0, 1]\n",
      "2 3\n",
      "여자일 때 바꿔야하는 인덱스의 값 0 4\n",
      "[1, 0, 0, 0, 1, 1, 0, 1]\n"
     ]
    }
   ],
   "source": [
    "for i in range(student):\n",
    "    gender, number = map(int, input().split())\n",
    "    \n",
    "    # 남자\n",
    "    if gender == 1:\n",
    "        for i in range(1, NUM+1):\n",
    "            if i % number == 0:\n",
    "                if state[i-1] == 1:\n",
    "                    state[i-1] = 0\n",
    "                else:\n",
    "                    state[i-1] = 1\n",
    "                    \n",
    "    # 여자  \n",
    "    else:\n",
    "        switchindex = number - 1\n",
    "        \n",
    "        left = switchindex - 1\n",
    "        right = switchindex + 1\n",
    "        \n",
    "        while True:\n",
    "            \n",
    "            if left < 0 or right > NUM-1:\n",
    "                left += 1\n",
    "                right -= 1\n",
    "                break\n",
    "                \n",
    "            if state[left] == state[right]:\n",
    "                left -= 1\n",
    "                right += 1\n",
    "            else:\n",
    "                left += 1\n",
    "                right -= 1\n",
    "                break\n",
    "                \n",
    "        print('여자일 때 바꿔야하는 인덱스의 값', left, right)\n",
    "        \n",
    "        for i in range(left, right+1):\n",
    "            if state[i] == 1:\n",
    "                state[i] = 0\n",
    "            else:\n",
    "                state[i] = 1\n",
    "    print(state)"
   ]
  },
  {
   "cell_type": "code",
   "execution_count": 5,
   "id": "6715ba18",
   "metadata": {},
   "outputs": [
    {
     "name": "stdout",
     "output_type": "stream",
     "text": [
      "1 0 0 0 1 1 0 1\n"
     ]
    }
   ],
   "source": [
    "result = ''.join(str(i) for i in state)\n",
    "length = len(result)\n",
    "if length>=20:\n",
    "    for i in range((length)//20+1):\n",
    "        start = int(i*20)\n",
    "        print(' '.join(result[start:start+20]))\n",
    "else:\n",
    "    print(' '.join(result))"
   ]
  }
 ],
 "metadata": {
  "kernelspec": {
   "display_name": "Python 3 (ipykernel)",
   "language": "python",
   "name": "python3"
  },
  "language_info": {
   "codemirror_mode": {
    "name": "ipython",
    "version": 3
   },
   "file_extension": ".py",
   "mimetype": "text/x-python",
   "name": "python",
   "nbconvert_exporter": "python",
   "pygments_lexer": "ipython3",
   "version": "3.9.12"
  }
 },
 "nbformat": 4,
 "nbformat_minor": 5
}
