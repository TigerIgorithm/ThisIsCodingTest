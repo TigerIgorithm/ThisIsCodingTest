{
 "cells": [
  {
   "cell_type": "code",
   "execution_count": 1,
   "id": "74fd06b1",
   "metadata": {},
   "outputs": [
    {
     "name": "stdout",
     "output_type": "stream",
     "text": [
      "8\n",
      "0 1 0 1 0 0 0 1\n",
      "2\n",
      "1 3\n",
      "2 3\n"
     ]
    }
   ],
   "source": [
    "# 스위치 개수\n",
    "n = int(input())\n",
    "\n",
    "# 각 스위치의 상태\n",
    "switch = list(map(int, input().split()))\n",
    "\n",
    "# 학생 수\n",
    "std = int(input())\n",
    "\n",
    "# 각 학생의 성별과 받은 수\n",
    "s_list = [input().split() for _ in range(std)]"
   ]
  },
  {
   "cell_type": "code",
   "execution_count": 2,
   "id": "1fa5f1a9",
   "metadata": {},
   "outputs": [
    {
     "data": {
      "text/plain": [
       "[['1', '3'], ['2', '3']]"
      ]
     },
     "execution_count": 2,
     "metadata": {},
     "output_type": "execute_result"
    }
   ],
   "source": [
    "s_list"
   ]
  },
  {
   "cell_type": "code",
   "execution_count": 3,
   "id": "ff63963d",
   "metadata": {},
   "outputs": [
    {
     "data": {
      "text/plain": [
       "[1, 0, 0, 0, 1, 1, 0, 1]"
      ]
     },
     "execution_count": 3,
     "metadata": {},
     "output_type": "execute_result"
    }
   ],
   "source": [
    "for i in range(std):\n",
    "    now_std = s_list[i]\n",
    "    #바꿀 스위치 찾기\n",
    "    \n",
    "    #남자이면\n",
    "    if int(now_std[0]) == 1:\n",
    "        tochg = []\n",
    "        for j in range(1,n+1):\n",
    "            if j%int(now_std[1]) == 0:\n",
    "                tochg.append(j)\n",
    "        for k in tochg:\n",
    "            if switch[k-1] == 0:\n",
    "                switch[k-1] = 1\n",
    "            else:\n",
    "                switch[k-1] = 0\n",
    "\n",
    "    # 여자이면\n",
    "    else:\n",
    "        tochg = []\n",
    "        tochg.append(int(now_std[1]))\n",
    "        ind = int(now_std[1])\n",
    "        for p in range(n//2):\n",
    "            p +=1\n",
    "            minus = ind-p-1\n",
    "            plus = ind+p-1\n",
    "\n",
    "            if (minus < 0) or (plus > len(switch)):\n",
    "                break\n",
    "                \n",
    "            elif switch[minus] == switch[plus]:\n",
    "                tochg.append(int(minus+1))\n",
    "                tochg.append(int(plus+1))\n",
    "                \n",
    "            else:\n",
    "                break\n",
    "\n",
    "        for k in tochg:\n",
    "            if switch[k-1] == 0:\n",
    "                switch[k-1] = 1\n",
    "            else:\n",
    "                switch[k-1] = 0\n",
    "        \n",
    "switch"
   ]
  },
  {
   "cell_type": "code",
   "execution_count": 1,
   "id": "d096b34c",
   "metadata": {
    "scrolled": true
   },
   "outputs": [
    {
     "ename": "SyntaxError",
     "evalue": "invalid syntax (<ipython-input-1-4493af86d60d>, line 3)",
     "output_type": "error",
     "traceback": [
      "\u001b[1;36m  File \u001b[1;32m\"<ipython-input-1-4493af86d60d>\"\u001b[1;36m, line \u001b[1;32m3\u001b[0m\n\u001b[1;33m    print(pnt_switch += str(n)+\" \")\u001b[0m\n\u001b[1;37m                     ^\u001b[0m\n\u001b[1;31mSyntaxError\u001b[0m\u001b[1;31m:\u001b[0m invalid syntax\n"
     ]
    }
   ],
   "source": [
    "pnt_switch = \"\"\n",
    "for n in switch:\n",
    "    pnt_switch += str(n)+\" \"\n",
    "    if (n+1) % 20 == 0:\n",
    "        pnt_switch += '\\n'"
   ]
  }
 ],
 "metadata": {
  "kernelspec": {
   "display_name": "Python 3",
   "language": "python",
   "name": "python3"
  },
  "language_info": {
   "codemirror_mode": {
    "name": "ipython",
    "version": 3
   },
   "file_extension": ".py",
   "mimetype": "text/x-python",
   "name": "python",
   "nbconvert_exporter": "python",
   "pygments_lexer": "ipython3",
   "version": "3.9.2"
  }
 },
 "nbformat": 4,
 "nbformat_minor": 5
}
