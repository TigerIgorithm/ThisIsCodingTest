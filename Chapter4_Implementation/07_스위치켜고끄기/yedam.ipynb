{
 "cells": [
  {
   "cell_type": "code",
   "execution_count": 32,
   "id": "781f6b87",
   "metadata": {
    "scrolled": false
   },
   "outputs": [
    {
     "name": "stdout",
     "output_type": "stream",
     "text": [
      "10\n",
      "1 1 1 1 1 0 1 0 0 1\n",
      "4\n",
      "1 4\n",
      "2 6\n",
      "1 3\n",
      "2 3\n",
      "[1, 1, 1, 0, 1, 0, 1, 1, 0, 1]\n",
      "[1, 1, 1, 0, 0, 1, 0, 1, 0, 1]\n",
      "[1, 1, 0, 0, 0, 0, 0, 1, 1, 1]\n",
      "[1, 1, 1, 0, 0, 0, 0, 1, 1, 1]\n",
      "1 1 1 0 0 0 0 1 1 1 "
     ]
    }
   ],
   "source": [
    "num = int(input())\n",
    "state = list(map(int, input().split()))\n",
    "    \n",
    "student_cnt = int(input())\n",
    "students = []\n",
    "for n in range(student_cnt):\n",
    "    students.append(list(map(int, input().split())))\n",
    "    \n",
    "# 남학생 코드\n",
    "\n",
    "def boy(number, state):\n",
    "    for i in range(1, len(state)+1):\n",
    "        if i % number == 0 and state[i-1] == 0:\n",
    "            state[i-1] = 1\n",
    "        elif i %number == 0 and state[i-1] == 1:\n",
    "            state[i-1] = 0\n",
    "            \n",
    "    return state\n",
    "\n",
    "def girl(number, state):\n",
    "    repeat = min(number-1, len(state)- number)\n",
    "    \n",
    "    # 지정 번호 바꾸기\n",
    "    if state[number-1] == 0:\n",
    "        state[number-1] = 1\n",
    "    else:\n",
    "        state[number-1] = 0\n",
    "        \n",
    "    number -= 1\n",
    "    for i in range(1, repeat+1):\n",
    "        # 대칭이 서로 같은지 확인하고 같으면 번호 변경\n",
    "        if state[number - i] == state[number + i]:\n",
    "            if state[number - i] == 0:\n",
    "                state[number- i] = 1\n",
    "                state[number + i] = 1\n",
    "            else:\n",
    "                state[number- i] = 0\n",
    "                state[number + i] = 0\n",
    "        \n",
    "        if state[number - i] != state[number + i]:\n",
    "            break\n",
    "                \n",
    "    return state\n",
    "\n",
    "for student in students:\n",
    "    if student[0] == 1:\n",
    "        state = boy(student[1], state)\n",
    "        print(state)\n",
    "\n",
    "    else:\n",
    "        state = girl(student[1], state)\n",
    "        print(state)\n",
    "        \n",
    "for i in range(len(state)):\n",
    "    print(str(state[i]), end = ' ')\n",
    "    if (i+1) % 20 == 0:\n",
    "        print()"
   ]
  },
  {
   "cell_type": "code",
   "execution_count": 2,
   "id": "6e703edf",
   "metadata": {},
   "outputs": [
    {
     "name": "stdout",
     "output_type": "stream",
     "text": [
      "1 0 1 0 1 0 1 0 1 0 1 0 1 0 1 0 1 0 1 0 1 0 1 0 1\n"
     ]
    }
   ],
   "source": [
    "print('1 0 1 0 1 0 1 0 1 0 1 0 1 0 1 0 1 0 1 0 1 0 1 0 1')"
   ]
  },
  {
   "cell_type": "code",
   "execution_count": null,
   "id": "2b09b7a7",
   "metadata": {},
   "outputs": [],
   "source": [
    "1 0 1 0 1 0 1 0 1 0 1 0 1 0 1 0 1 0 1 0 1 0 1 0 1"
   ]
  }
 ],
 "metadata": {
  "kernelspec": {
   "display_name": "Python 3 (ipykernel)",
   "language": "python",
   "name": "python3"
  },
  "language_info": {
   "codemirror_mode": {
    "name": "ipython",
    "version": 3
   },
   "file_extension": ".py",
   "mimetype": "text/x-python",
   "name": "python",
   "nbconvert_exporter": "python",
   "pygments_lexer": "ipython3",
   "version": "3.9.7"
  }
 },
 "nbformat": 4,
 "nbformat_minor": 5
}
