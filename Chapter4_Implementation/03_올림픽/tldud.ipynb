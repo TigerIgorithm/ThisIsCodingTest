{
 "cells": [
  {
   "cell_type": "code",
   "execution_count": 1,
   "id": "bd11e271",
   "metadata": {},
   "outputs": [
    {
     "name": "stdout",
     "output_type": "stream",
     "text": [
      "4 3\n",
      "1 1 2 0\n",
      "2 0 1 0\n",
      "3 0 1 0\n",
      "4 0 0 1\n"
     ]
    }
   ],
   "source": [
    "# 전체 국가의 수 N, 등수를 알고 싶은 나라 K\n",
    "n, k = map(int, input().split())\n",
    "\n",
    "# 전체 국가의 번호 및 메달 수\n",
    "n_medal = [input().split() for _ in range(n)]"
   ]
  },
  {
   "cell_type": "code",
   "execution_count": 2,
   "id": "0f41f1d4",
   "metadata": {},
   "outputs": [],
   "source": [
    "n_medal.sort()"
   ]
  },
  {
   "cell_type": "code",
   "execution_count": 3,
   "id": "b16c8519",
   "metadata": {},
   "outputs": [
    {
     "data": {
      "text/plain": [
       "[['1', '1', '2', '0'], ['2', '0', '1', '0'], ['4', '0', '0', '1']]"
      ]
     },
     "execution_count": 3,
     "metadata": {},
     "output_type": "execute_result"
    }
   ],
   "source": [
    "# k 국가 메달은 따로 저장\n",
    "k_medal = n_medal[k-1]\n",
    "\n",
    "# n_medal에서 K 국가는 제외\n",
    "del n_medal[k-1]\n",
    "n_medal"
   ]
  },
  {
   "cell_type": "code",
   "execution_count": 4,
   "id": "230160d3",
   "metadata": {},
   "outputs": [
    {
     "name": "stdout",
     "output_type": "stream",
     "text": [
      "['0', '1', '0']\n",
      "[['1', '2', '0'], ['0', '1', '0'], ['0', '0', '1']]\n"
     ]
    }
   ],
   "source": [
    "#국가를 나타내는 숫자 지우기\n",
    "del k_medal[0]\n",
    "for i in n_medal:\n",
    "    del i[0]\n",
    "print(k_medal)\n",
    "print(n_medal)"
   ]
  },
  {
   "cell_type": "code",
   "execution_count": 5,
   "id": "ce4c3791",
   "metadata": {},
   "outputs": [
    {
     "name": "stdout",
     "output_type": "stream",
     "text": [
      "2\n"
     ]
    }
   ],
   "source": [
    "rank = 1\n",
    "\n",
    "for g in n_medal:\n",
    "    if int(g[0]) > int(k_medal[0]):\n",
    "        rank+=1\n",
    "    else:\n",
    "        if int(g[0]) == int(k_medal[0]) and int(g[1]) > int(k_medal[1]):\n",
    "            rank+=1\n",
    "        else:\n",
    "            if int(g[0]) == int(k_medal[0]) and int(g[1]) == int(k_medal[1]) and int(g[2]) > int(k_medal[2]):\n",
    "                rank += 1\n",
    "print(rank)"
   ]
  }
 ],
 "metadata": {
  "kernelspec": {
   "display_name": "Python 3",
   "language": "python",
   "name": "python3"
  },
  "language_info": {
   "codemirror_mode": {
    "name": "ipython",
    "version": 3
   },
   "file_extension": ".py",
   "mimetype": "text/x-python",
   "name": "python",
   "nbconvert_exporter": "python",
   "pygments_lexer": "ipython3",
   "version": "3.9.2"
  }
 },
 "nbformat": 4,
 "nbformat_minor": 5
}
