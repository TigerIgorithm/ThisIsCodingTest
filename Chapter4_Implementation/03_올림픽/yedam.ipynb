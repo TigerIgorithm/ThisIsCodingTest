{
 "cells": [
  {
   "cell_type": "markdown",
   "id": "05d23e48",
   "metadata": {},
   "source": [
    "## 23.03.20\n",
    "# 올림픽"
   ]
  },
  {
   "cell_type": "markdown",
   "id": "6bcd4329",
   "metadata": {},
   "source": [
    "- memo : 마지막에 결과 print로 출력!!! 꼭!!!! <- 이거때메 한 시간 날림;;;"
   ]
  },
  {
   "cell_type": "code",
   "execution_count": 50,
   "id": "46a18636",
   "metadata": {},
   "outputs": [
    {
     "name": "stdout",
     "output_type": "stream",
     "text": [
      "4 2\n",
      "1 3 0 0\n",
      "3 0 0 2\n",
      "4 0 2 0\n",
      "2 0 2 0\n",
      "2\n"
     ]
    }
   ],
   "source": [
    "n, wanna = map(int, input().split())\n",
    "\n",
    "medal = []\n",
    "for i in range(n):\n",
    "    medal.append(list(map(int, input().split())))\n",
    "    \n",
    "def solution(n, wanna, medal):\n",
    "    medal.sort(key = lambda x : (x[1], x[2], x[3]), reverse = True)\n",
    "    \n",
    "    # 알고 싶으 국가의 메달 개수를 따로 저장\n",
    "    for i in range (n):\n",
    "        if medal[i][0] == wanna:\n",
    "            country = medal[i]\n",
    "\n",
    "    for result in range(n):\n",
    "        if medal[result][1::] == country[1::]:\n",
    "            answer = result + 1\n",
    "            break\n",
    "            \n",
    "    return answer\n",
    "\n",
    "print(solution(n, wanna, medal))"
   ]
  },
  {
   "cell_type": "code",
   "execution_count": null,
   "id": "085c128c",
   "metadata": {},
   "outputs": [],
   "source": []
  }
 ],
 "metadata": {
  "kernelspec": {
   "display_name": "Python 3 (ipykernel)",
   "language": "python",
   "name": "python3"
  },
  "language_info": {
   "codemirror_mode": {
    "name": "ipython",
    "version": 3
   },
   "file_extension": ".py",
   "mimetype": "text/x-python",
   "name": "python",
   "nbconvert_exporter": "python",
   "pygments_lexer": "ipython3",
   "version": "3.9.7"
  }
 },
 "nbformat": 4,
 "nbformat_minor": 5
}
