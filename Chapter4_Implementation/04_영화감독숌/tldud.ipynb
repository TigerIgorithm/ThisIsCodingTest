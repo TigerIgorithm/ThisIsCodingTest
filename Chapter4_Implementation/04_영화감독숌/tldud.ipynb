{
 "cells": [
  {
   "cell_type": "code",
   "execution_count": 14,
   "id": "4ba3394c",
   "metadata": {},
   "outputs": [
    {
     "name": "stdout",
     "output_type": "stream",
     "text": [
      "187\n"
     ]
    }
   ],
   "source": [
    "# 영화감독 숌\n",
    "\n",
    "six = '666'\n",
    "# N번째 영화\n",
    "n = int(input())"
   ]
  },
  {
   "cell_type": "code",
   "execution_count": 15,
   "id": "8bac114f",
   "metadata": {},
   "outputs": [
    {
     "name": "stdout",
     "output_type": "stream",
     "text": [
      "16669\n"
     ]
    }
   ],
   "source": [
    "\n",
    "for i in range(n):\n",
    "    i = str(i)\n",
    "    res = i + six\n",
    "    \n",
    "    if int(i)%10 == 6:\n",
    "        for j in range(10):\n",
    "            j = str(j)\n",
    "            res = i[:1]+six+j\n",
    "        \n",
    "print(res)"
   ]
  }
 ],
 "metadata": {
  "kernelspec": {
   "display_name": "Python 3",
   "language": "python",
   "name": "python3"
  },
  "language_info": {
   "codemirror_mode": {
    "name": "ipython",
    "version": 3
   },
   "file_extension": ".py",
   "mimetype": "text/x-python",
   "name": "python",
   "nbconvert_exporter": "python",
   "pygments_lexer": "ipython3",
   "version": "3.9.2"
  }
 },
 "nbformat": 4,
 "nbformat_minor": 5
}
