{
 "cells": [
  {
   "cell_type": "markdown",
   "id": "ad8c6643",
   "metadata": {},
   "source": [
    "### 23/03/20/월"
   ]
  },
  {
   "cell_type": "markdown",
   "id": "9f24fa57",
   "metadata": {},
   "source": [
    "# 부분수열의 합"
   ]
  },
  {
   "cell_type": "code",
   "execution_count": 1,
   "id": "740b1ca2",
   "metadata": {},
   "outputs": [],
   "source": [
    "n, s = 5, 0"
   ]
  },
  {
   "cell_type": "code",
   "execution_count": 2,
   "id": "36f1d19d",
   "metadata": {},
   "outputs": [],
   "source": [
    "sequence = [-7, -3, -2, 5, 8]"
   ]
  },
  {
   "cell_type": "code",
   "execution_count": 12,
   "id": "bea3508b",
   "metadata": {},
   "outputs": [
    {
     "data": {
      "text/plain": [
       "[-7]"
      ]
     },
     "execution_count": 12,
     "metadata": {},
     "output_type": "execute_result"
    }
   ],
   "source": [
    "sequence[0:1]"
   ]
  },
  {
   "cell_type": "code",
   "execution_count": 18,
   "id": "3ba13d31",
   "metadata": {},
   "outputs": [],
   "source": [
    "cnt = 0\n",
    "for i in range(len(sequence)):\n",
    "    for j in range(i, len(sequence)):\n",
    "         if sum(sequence[i:j+1]) == 0:\n",
    "                cnt += 1"
   ]
  },
  {
   "cell_type": "code",
   "execution_count": 19,
   "id": "fd22fd0b",
   "metadata": {},
   "outputs": [
    {
     "data": {
      "text/plain": [
       "1"
      ]
     },
     "execution_count": 19,
     "metadata": {},
     "output_type": "execute_result"
    }
   ],
   "source": [
    "cnt"
   ]
  },
  {
   "cell_type": "code",
   "execution_count": 22,
   "id": "1ad06e16",
   "metadata": {},
   "outputs": [
    {
     "name": "stdout",
     "output_type": "stream",
     "text": [
      "5 0\n",
      "-7 -3 -2 5 8\n",
      "1\n"
     ]
    }
   ],
   "source": [
    "n, s = map(int, input().split())\n",
    "sequence = list(map(int, input().split()))\n",
    "\n",
    "cnt = 0\n",
    "for i in range(len(sequence)):\n",
    "    for j in range(i, len(sequence)):\n",
    "        if sum(sequence[i:j+1]) == s:\n",
    "            cnt += 1\n",
    "            \n",
    "print(cnt)"
   ]
  },
  {
   "cell_type": "markdown",
   "id": "c94c5cf2",
   "metadata": {},
   "source": [
    "--------------------------------------------------조합 사용을 깨달은 후...  record----------------------------------------------------------"
   ]
  },
  {
   "cell_type": "code",
   "execution_count": 65,
   "id": "2ab7cc4a",
   "metadata": {},
   "outputs": [
    {
     "name": "stdout",
     "output_type": "stream",
     "text": [
      "5 0\n",
      "-7 -3 -2 5 8\n",
      "1\n"
     ]
    }
   ],
   "source": [
    "n, s = map(int, input().split())\n",
    "sequence = list(map(int, input().split()))\n",
    "\n",
    "import itertools\n",
    "\n",
    "cnt = 0\n",
    "for i in range(1, len(sequence)+1):\n",
    "    temp = itertools.combinations(sequence, i)\n",
    "    for check in temp:\n",
    "        if sum(check) == s:\n",
    "            cnt += 1\n",
    "print(cnt)\n"
   ]
  },
  {
   "cell_type": "code",
   "execution_count": null,
   "id": "c2d12422",
   "metadata": {},
   "outputs": [],
   "source": []
  }
 ],
 "metadata": {
  "kernelspec": {
   "display_name": "Python 3 (ipykernel)",
   "language": "python",
   "name": "python3"
  },
  "language_info": {
   "codemirror_mode": {
    "name": "ipython",
    "version": 3
   },
   "file_extension": ".py",
   "mimetype": "text/x-python",
   "name": "python",
   "nbconvert_exporter": "python",
   "pygments_lexer": "ipython3",
   "version": "3.9.7"
  }
 },
 "nbformat": 4,
 "nbformat_minor": 5
}
