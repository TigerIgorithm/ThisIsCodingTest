{
 "cells": [
  {
   "cell_type": "code",
   "execution_count": 1,
   "id": "c51ba212",
   "metadata": {},
   "outputs": [
    {
     "name": "stdout",
     "output_type": "stream",
     "text": [
      "5\n",
      "55 185\n",
      "58 183\n",
      "88 186\n",
      "60 175\n",
      "46 155\n"
     ]
    }
   ],
   "source": [
    "# 사람 수\n",
    "n = int(input())\n",
    "\n",
    "# 각 사람의 몸무게와 키\n",
    "nlist = [input().split() for _ in range(n)]"
   ]
  },
  {
   "cell_type": "code",
   "execution_count": 2,
   "id": "b5e8465a",
   "metadata": {},
   "outputs": [
    {
     "data": {
      "text/plain": [
       "[['55', '185'], ['58', '183'], ['88', '186'], ['60', '175'], ['46', '155']]"
      ]
     },
     "execution_count": 2,
     "metadata": {},
     "output_type": "execute_result"
    }
   ],
   "source": [
    "nlist"
   ]
  },
  {
   "cell_type": "code",
   "execution_count": 4,
   "id": "daa80dba",
   "metadata": {},
   "outputs": [
    {
     "name": "stdout",
     "output_type": "stream",
     "text": [
      "2 2 1 2 5 "
     ]
    }
   ],
   "source": [
    "for i in nlist:\n",
    "    rank = 1\n",
    "    for j in nlist:\n",
    "        if i == j:\n",
    "            continue\n",
    "        if i[0] < j[0]:\n",
    "            if i[1] < j[1]:\n",
    "                rank += 1\n",
    "\n",
    "    print(rank, end =' ')"
   ]
  }
 ],
 "metadata": {
  "kernelspec": {
   "display_name": "Python 3",
   "language": "python",
   "name": "python3"
  },
  "language_info": {
   "codemirror_mode": {
    "name": "ipython",
    "version": 3
   },
   "file_extension": ".py",
   "mimetype": "text/x-python",
   "name": "python",
   "nbconvert_exporter": "python",
   "pygments_lexer": "ipython3",
   "version": "3.9.2"
  }
 },
 "nbformat": 4,
 "nbformat_minor": 5
}
