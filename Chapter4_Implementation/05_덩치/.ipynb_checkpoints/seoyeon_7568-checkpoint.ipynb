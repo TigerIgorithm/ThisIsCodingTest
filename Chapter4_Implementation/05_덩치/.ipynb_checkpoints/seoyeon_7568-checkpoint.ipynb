{
 "cells": [
  {
   "cell_type": "code",
   "execution_count": 1,
   "id": "6b0e0dd1",
   "metadata": {},
   "outputs": [
    {
     "name": "stdout",
     "output_type": "stream",
     "text": [
      "5\n"
     ]
    }
   ],
   "source": [
    "N = int(input())"
   ]
  },
  {
   "cell_type": "code",
   "execution_count": 2,
   "id": "644da639",
   "metadata": {},
   "outputs": [
    {
     "name": "stdout",
     "output_type": "stream",
     "text": [
      "55 185\n",
      "58 183\n",
      "88 186\n",
      "60 175\n",
      "46 155\n",
      "[[55, 185], [58, 183], [88, 186], [60, 175], [46, 155]]\n"
     ]
    }
   ],
   "source": [
    "people = [0] * N\n",
    "\n",
    "for i in range(N):\n",
    "    people[i] = list(map(int, input().split()))\n",
    "    \n",
    "print(people)"
   ]
  },
  {
   "cell_type": "code",
   "execution_count": 3,
   "id": "fe41fec8",
   "metadata": {},
   "outputs": [
    {
     "name": "stdout",
     "output_type": "stream",
     "text": [
      "2 2 1 2 5 "
     ]
    }
   ],
   "source": [
    "for i in people:\n",
    "    ranking = 1\n",
    "    for j in people:\n",
    "         \n",
    "        if i == j:\n",
    "            continue\n",
    "        \n",
    "        if i[0] < j[0]:\n",
    "            if i[1] < j[1]:\n",
    "                ranking += 1\n",
    "                          \n",
    "    print(ranking, end=' ')"
   ]
  }
 ],
 "metadata": {
  "kernelspec": {
   "display_name": "Python 3",
   "language": "python",
   "name": "python3"
  },
  "language_info": {
   "codemirror_mode": {
    "name": "ipython",
    "version": 3
   },
   "file_extension": ".py",
   "mimetype": "text/x-python",
   "name": "python",
   "nbconvert_exporter": "python",
   "pygments_lexer": "ipython3",
   "version": "3.9.2"
  }
 },
 "nbformat": 4,
 "nbformat_minor": 5
}
