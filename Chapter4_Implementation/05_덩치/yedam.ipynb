{
 "cells": [
  {
   "cell_type": "markdown",
   "id": "258d7c11",
   "metadata": {},
   "source": [
    "### 23/03/20/월\n",
    "# 덩치(7568)"
   ]
  },
  {
   "cell_type": "code",
   "execution_count": 22,
   "id": "921d7a95",
   "metadata": {},
   "outputs": [
    {
     "name": "stdout",
     "output_type": "stream",
     "text": [
      "5\n",
      "55 185\n",
      "58 183\n",
      "80 186\n",
      "60 175\n",
      "46 155\n",
      "2 2 1 2 5 "
     ]
    }
   ],
   "source": [
    "num = int(input())\n",
    "body = []   \n",
    "for user_input in range(num):\n",
    "    body.append(list(map(int, input().split())))\n",
    "        \n",
    "answer = []\n",
    "for person in body:\n",
    "    rank = 1\n",
    "    for i in range(num):\n",
    "        if body[i][0] > person[0] and body[i][1] > person[1]:\n",
    "            rank += 1\n",
    "    answer.append(rank)\n",
    "                \n",
    "for printing in answer:\n",
    "    print(printing, end=\" \")                \n",
    "           "
   ]
  },
  {
   "cell_type": "code",
   "execution_count": null,
   "id": "0681417e",
   "metadata": {},
   "outputs": [],
   "source": []
  }
 ],
 "metadata": {
  "kernelspec": {
   "display_name": "Python 3 (ipykernel)",
   "language": "python",
   "name": "python3"
  },
  "language_info": {
   "codemirror_mode": {
    "name": "ipython",
    "version": 3
   },
   "file_extension": ".py",
   "mimetype": "text/x-python",
   "name": "python",
   "nbconvert_exporter": "python",
   "pygments_lexer": "ipython3",
   "version": "3.9.7"
  }
 },
 "nbformat": 4,
 "nbformat_minor": 5
}
