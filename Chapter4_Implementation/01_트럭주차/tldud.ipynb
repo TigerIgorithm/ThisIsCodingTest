{
 "cells": [
  {
   "cell_type": "code",
   "execution_count": 1,
   "id": "b95a459f",
   "metadata": {},
   "outputs": [
    {
     "name": "stdout",
     "output_type": "stream",
     "text": [
      "10 8 6\n"
     ]
    }
   ],
   "source": [
    "a, b, c = map(int, input().split())"
   ]
  },
  {
   "cell_type": "code",
   "execution_count": 6,
   "id": "90d044fc",
   "metadata": {},
   "outputs": [
    {
     "name": "stdout",
     "output_type": "stream",
     "text": [
      "15 30\n",
      "25 50\n",
      "70 80\n",
      "[15, 16, 17, 18, 19, 20, 21, 22, 23, 24, 25, 26, 27, 28, 29, 25, 26, 27, 28, 29, 30, 31, 32, 33, 34, 35, 36, 37, 38, 39, 40, 41, 42, 43, 44, 45, 46, 47, 48, 49, 70, 71, 72, 73, 74, 75, 76, 77, 78, 79]\n"
     ]
    }
   ],
   "source": [
    "time = []\n",
    "for i in range(3):\n",
    "    first, end = map(int,input().split())\n",
    "    time += list(range(first, end))\n",
    "print(time)"
   ]
  },
  {
   "cell_type": "code",
   "execution_count": 7,
   "id": "800bd88b",
   "metadata": {},
   "outputs": [
    {
     "name": "stdout",
     "output_type": "stream",
     "text": [
      "480\n"
     ]
    }
   ],
   "source": [
    "res = 0\n",
    "one, two, three = 0, 0, 0\n",
    "only =list(set(time))\n",
    "\n",
    "for j in only:\n",
    "    if time.count(j) == 1:\n",
    "        one +=1\n",
    "    elif time.count(j) == 2:\n",
    "        two += 1\n",
    "    elif time.count(j) == 3:\n",
    "        three += 1\n",
    "\n",
    "res = one*a + two*b*2 + three*c*3\n",
    "print(res)"
   ]
  }
 ],
 "metadata": {
  "kernelspec": {
   "display_name": "Python 3",
   "language": "python",
   "name": "python3"
  },
  "language_info": {
   "codemirror_mode": {
    "name": "ipython",
    "version": 3
   },
   "file_extension": ".py",
   "mimetype": "text/x-python",
   "name": "python",
   "nbconvert_exporter": "python",
   "pygments_lexer": "ipython3",
   "version": "3.9.2"
  }
 },
 "nbformat": 4,
 "nbformat_minor": 5
}
