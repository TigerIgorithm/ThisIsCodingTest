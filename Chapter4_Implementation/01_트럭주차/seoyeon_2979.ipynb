{
 "cells": [
  {
   "cell_type": "code",
   "execution_count": 1,
   "id": "b24296bd",
   "metadata": {},
   "outputs": [
    {
     "name": "stdout",
     "output_type": "stream",
     "text": [
      "10 8 6\n"
     ]
    }
   ],
   "source": [
    "# 요금\n",
    "A, B, C = map(int, input().split())"
   ]
  },
  {
   "cell_type": "code",
   "execution_count": 2,
   "id": "17a6a839",
   "metadata": {},
   "outputs": [
    {
     "name": "stdout",
     "output_type": "stream",
     "text": [
      "15 30\n",
      "[15, 16, 17, 18, 19, 20, 21, 22, 23, 24, 25, 26, 27, 28, 29]\n",
      "25 50\n",
      "[15, 16, 17, 18, 19, 20, 21, 22, 23, 24, 25, 26, 27, 28, 29, 25, 26, 27, 28, 29, 30, 31, 32, 33, 34, 35, 36, 37, 38, 39, 40, 41, 42, 43, 44, 45, 46, 47, 48, 49]\n",
      "70 80\n",
      "[15, 16, 17, 18, 19, 20, 21, 22, 23, 24, 25, 26, 27, 28, 29, 25, 26, 27, 28, 29, 30, 31, 32, 33, 34, 35, 36, 37, 38, 39, 40, 41, 42, 43, 44, 45, 46, 47, 48, 49, 70, 71, 72, 73, 74, 75, 76, 77, 78, 79]\n"
     ]
    }
   ],
   "source": [
    "time = []\n",
    "for i in range(3): # 트럭이 총 3개니까 3번 반복\n",
    "    carstart, carfinish = map(int, input().split())\n",
    "    for i in range(carstart, carfinish):\n",
    "        time.append(i)\n",
    "    print(time)"
   ]
  },
  {
   "cell_type": "code",
   "execution_count": 3,
   "id": "0e4ddada",
   "metadata": {},
   "outputs": [],
   "source": [
    "mintime = min(time)\n",
    "maxtime = max(time)"
   ]
  },
  {
   "cell_type": "code",
   "execution_count": 4,
   "id": "53fe1810",
   "metadata": {},
   "outputs": [
    {
     "name": "stdout",
     "output_type": "stream",
     "text": [
      "480\n"
     ]
    }
   ],
   "source": [
    "result = 0\n",
    "\n",
    "for i in range(mintime, maxtime+1):\n",
    "    carcount = time.count(i)\n",
    "    \n",
    "    if carcount == 1:\n",
    "        result += (1 * A)\n",
    "    elif carcount == 2:\n",
    "        result += (2 * B)\n",
    "    elif carcount == 3:\n",
    "        result += (3 * C)\n",
    "        \n",
    "print(result)"
   ]
  }
 ],
 "metadata": {
  "kernelspec": {
   "display_name": "Python 3 (ipykernel)",
   "language": "python",
   "name": "python3"
  },
  "language_info": {
   "codemirror_mode": {
    "name": "ipython",
    "version": 3
   },
   "file_extension": ".py",
   "mimetype": "text/x-python",
   "name": "python",
   "nbconvert_exporter": "python",
   "pygments_lexer": "ipython3",
   "version": "3.9.12"
  }
 },
 "nbformat": 4,
 "nbformat_minor": 5
}
