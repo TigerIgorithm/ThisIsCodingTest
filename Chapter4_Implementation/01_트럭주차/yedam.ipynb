{
 "cells": [
  {
   "cell_type": "markdown",
   "id": "5d57190b",
   "metadata": {},
   "source": [
    "## 23/03/14/화요일"
   ]
  },
  {
   "cell_type": "code",
   "execution_count": 28,
   "id": "d3fa268a",
   "metadata": {},
   "outputs": [
    {
     "name": "stdout",
     "output_type": "stream",
     "text": [
      "5 3 1\n",
      "1 6\n",
      "3 5\n",
      "2 8\n",
      "33\n"
     ]
    }
   ],
   "source": [
    "a, b, c = map(int, input().split())\n",
    "first = list(map(int, input().split()))\n",
    "second = list(map(int, input().split()))\n",
    "third = list(map(int, input().split()))\n",
    "\n",
    "# 입력 받은 주차 시간대를 쭉~~ 늘리기\n",
    "first = [n for n in range(first[0], first[1]+1)]\n",
    "second = [n for n in range(second[0], second[1]+1)]\n",
    "third = [n for n in range(third[0], third[1]+1)]\n",
    "\n",
    "# 제일 먼저 들어온 시간, 늦게 들어온 시간 구하기\n",
    "min_num = min(first[0], second[0], third[0])\n",
    "max_num = max(first[-1], second[-1], third[-1])\n",
    "\n",
    "# 입력 받은 시간대에 있는지 확인하는 함수\n",
    "def check(i, park_time):\n",
    "    answer = False\n",
    "    if (i in park_time) and (i+1 in park_time):\n",
    "        answer = True\n",
    "    \n",
    "    return answer\n",
    "\n",
    "\n",
    "# 각 시간대에 몇 개씩 있었는지 확인\n",
    "result = []\n",
    "for i in range(min_num, max_num):\n",
    "    cnt = 0\n",
    "    if check(i, first):\n",
    "        cnt += 1\n",
    "        \n",
    "    if check(i, second):\n",
    "        cnt += 1\n",
    "        \n",
    "    if check(i, third):\n",
    "        cnt += 1\n",
    "\n",
    "    result.append(cnt)\n",
    "\n",
    "# 정답 출력\n",
    "print(1*result.count(1)*a + 2*result.count(2)*b + 3*result.count(3)*c)"
   ]
  },
  {
   "cell_type": "code",
   "execution_count": null,
   "id": "b1abe330",
   "metadata": {},
   "outputs": [],
   "source": []
  }
 ],
 "metadata": {
  "kernelspec": {
   "display_name": "Python 3 (ipykernel)",
   "language": "python",
   "name": "python3"
  },
  "language_info": {
   "codemirror_mode": {
    "name": "ipython",
    "version": 3
   },
   "file_extension": ".py",
   "mimetype": "text/x-python",
   "name": "python",
   "nbconvert_exporter": "python",
   "pygments_lexer": "ipython3",
   "version": "3.9.7"
  }
 },
 "nbformat": 4,
 "nbformat_minor": 5
}
