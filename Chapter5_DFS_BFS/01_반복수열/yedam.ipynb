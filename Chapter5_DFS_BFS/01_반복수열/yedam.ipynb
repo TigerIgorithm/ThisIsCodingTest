{
 "cells": [
  {
   "cell_type": "code",
   "execution_count": 29,
   "id": "a40a570a",
   "metadata": {},
   "outputs": [],
   "source": [
    "a, p = 57, 2"
   ]
  },
  {
   "cell_type": "code",
   "execution_count": 30,
   "id": "222c5240",
   "metadata": {},
   "outputs": [],
   "source": [
    "d = []\n",
    "d.append(a)"
   ]
  },
  {
   "cell_type": "code",
   "execution_count": 31,
   "id": "a4361560",
   "metadata": {},
   "outputs": [],
   "source": [
    "# p번 곱한 값 구하기\n",
    "def get_value(n):\n",
    "    temp = []\n",
    "    for _ in range(len(str(n))):\n",
    "        temp.append(n%10)\n",
    "        n = n // 10\n",
    "        \n",
    "    for i in range(len(temp)):\n",
    "        temp[i] = temp[i] ** p\n",
    "        \n",
    "    return sum(temp)"
   ]
  },
  {
   "cell_type": "code",
   "execution_count": 32,
   "id": "d4b39127",
   "metadata": {},
   "outputs": [],
   "source": [
    "def sequence(i):\n",
    "    pre_value = d[i-1]\n",
    "    now_value = get_value(pre_value)\n",
    "    for j in d:\n",
    "        if j == now_value:\n",
    "            dupli = d.index(j)\n",
    "            \n",
    "            return dupli\n",
    "    \n",
    "    d.append(now_value)\n",
    "    return True"
   ]
  },
  {
   "cell_type": "code",
   "execution_count": 33,
   "id": "cf074143",
   "metadata": {},
   "outputs": [
    {
     "name": "stdout",
     "output_type": "stream",
     "text": [
      "새로 추가할 값 :  74\n",
      "새로 추가할 값 :  65\n",
      "새로 추가할 값 :  61\n",
      "새로 추가할 값 :  37\n",
      "새로 추가할 값 :  58\n",
      "새로 추가할 값 :  89\n",
      "새로 추가할 값 :  145\n",
      "새로 추가할 값 :  42\n",
      "새로 추가할 값 :  20\n",
      "새로 추가할 값 :  4\n",
      "새로 추가할 값 :  16\n",
      "새로 추가할 값 :  37\n"
     ]
    }
   ],
   "source": [
    "answer = True\n",
    "i = 1\n",
    "\n",
    "while(answer == True):\n",
    "    answer = sequence(i)\n",
    "    i += 1"
   ]
  },
  {
   "cell_type": "code",
   "execution_count": 34,
   "id": "202a93b9",
   "metadata": {},
   "outputs": [
    {
     "data": {
      "text/plain": [
       "4"
      ]
     },
     "execution_count": 34,
     "metadata": {},
     "output_type": "execute_result"
    }
   ],
   "source": [
    "answer"
   ]
  },
  {
   "cell_type": "markdown",
   "id": "13121b87",
   "metadata": {},
   "source": [
    "## 제출 답안"
   ]
  },
  {
   "cell_type": "code",
   "execution_count": 41,
   "id": "b05f0c9c",
   "metadata": {},
   "outputs": [
    {
     "name": "stdout",
     "output_type": "stream",
     "text": [
      "57 2\n",
      "[57, 74]\n",
      "[57, 74, 65]\n",
      "[57, 74, 65, 61]\n",
      "[57, 74, 65, 61, 37]\n",
      "[57, 74, 65, 61, 37, 58]\n",
      "[57, 74, 65, 61, 37, 58, 89]\n",
      "[57, 74, 65, 61, 37, 58, 89, 145]\n",
      "[57, 74, 65, 61, 37, 58, 89, 145, 42]\n",
      "[57, 74, 65, 61, 37, 58, 89, 145, 42, 20]\n",
      "[57, 74, 65, 61, 37, 58, 89, 145, 42, 20, 4]\n",
      "[57, 74, 65, 61, 37, 58, 89, 145, 42, 20, 4, 16]\n",
      "[57, 74, 65, 61, 37, 58, 89, 145, 42, 20, 4, 16]\n",
      "4\n"
     ]
    }
   ],
   "source": [
    "a, p = map(int, input().split())\n",
    "\n",
    "d = []\n",
    "d.append(a)\n",
    "\n",
    "# p번 곱한 값 구하기\n",
    "def get_value(n):\n",
    "    temp = []\n",
    "    for _ in range(len(str(n))):\n",
    "        temp.append(n%10)\n",
    "        n = n // 10\n",
    "        \n",
    "    for i in range(len(temp)):\n",
    "        temp[i] = temp[i] ** p\n",
    "        \n",
    "    return sum(temp)\n",
    "\n",
    "def sequence(i):\n",
    "    pre_value = d[i-1]\n",
    "    now_value = get_value(pre_value)\n",
    "    for j in d:\n",
    "        if j == now_value:\n",
    "            dupli = d.index(j)\n",
    "            \n",
    "            return dupli\n",
    "    \n",
    "    d.append(now_value)\n",
    "    return True\n",
    "\n",
    "answer = True\n",
    "i = 1\n",
    "\n",
    "while(answer == True):\n",
    "    answer = sequence(i)\n",
    "    print(d)\n",
    "    i += 1\n",
    "    \n",
    "    \n",
    "print(answer)"
   ]
  },
  {
   "cell_type": "code",
   "execution_count": null,
   "id": "d93889f0",
   "metadata": {},
   "outputs": [],
   "source": []
  }
 ],
 "metadata": {
  "kernelspec": {
   "display_name": "Python 3 (ipykernel)",
   "language": "python",
   "name": "python3"
  },
  "language_info": {
   "codemirror_mode": {
    "name": "ipython",
    "version": 3
   },
   "file_extension": ".py",
   "mimetype": "text/x-python",
   "name": "python",
   "nbconvert_exporter": "python",
   "pygments_lexer": "ipython3",
   "version": "3.9.7"
  }
 },
 "nbformat": 4,
 "nbformat_minor": 5
}
