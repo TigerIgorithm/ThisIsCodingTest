{
 "cells": [
  {
   "cell_type": "code",
   "execution_count": 1,
   "id": "292831fd",
   "metadata": {},
   "outputs": [
    {
     "name": "stdout",
     "output_type": "stream",
     "text": [
      "57 2\n"
     ]
    }
   ],
   "source": [
    "A, P = map(int, input().split())"
   ]
  },
  {
   "cell_type": "code",
   "execution_count": 2,
   "id": "681d8d11",
   "metadata": {},
   "outputs": [
    {
     "name": "stdout",
     "output_type": "stream",
     "text": [
      "[57]\n"
     ]
    }
   ],
   "source": [
    "D = [A]\n",
    "\n",
    "print(D)"
   ]
  },
  {
   "cell_type": "code",
   "execution_count": 3,
   "id": "73077b98",
   "metadata": {},
   "outputs": [],
   "source": [
    "def mul(num):\n",
    "    answer = 0\n",
    "    numsplit = [int(j) for j in str(num)]\n",
    "    for i in numsplit:\n",
    "        answer += i**P\n",
    "    return answer"
   ]
  },
  {
   "cell_type": "code",
   "execution_count": 4,
   "id": "0d91d20c",
   "metadata": {},
   "outputs": [
    {
     "name": "stdout",
     "output_type": "stream",
     "text": [
      "[57, 74]\n",
      "[57, 74, 65]\n",
      "[57, 74, 65, 61]\n",
      "[57, 74, 65, 61, 37]\n",
      "[57, 74, 65, 61, 37, 58]\n",
      "[57, 74, 65, 61, 37, 58, 89]\n",
      "[57, 74, 65, 61, 37, 58, 89, 145]\n",
      "[57, 74, 65, 61, 37, 58, 89, 145, 42]\n",
      "[57, 74, 65, 61, 37, 58, 89, 145, 42, 20]\n",
      "[57, 74, 65, 61, 37, 58, 89, 145, 42, 20, 4]\n",
      "[57, 74, 65, 61, 37, 58, 89, 145, 42, 20, 4, 16]\n",
      "최종 답 4\n"
     ]
    }
   ],
   "source": [
    "while True:\n",
    "    temp = mul(D[-1])\n",
    "    if temp in D:\n",
    "        id = D.index(temp)\n",
    "        del D[id:]\n",
    "        break\n",
    "    else:        \n",
    "        D.append(temp)\n",
    "        print(D)\n",
    "\n",
    "print('최종 답', len(D))"
   ]
  }
 ],
 "metadata": {
  "kernelspec": {
   "display_name": "Python 3 (ipykernel)",
   "language": "python",
   "name": "python3"
  },
  "language_info": {
   "codemirror_mode": {
    "name": "ipython",
    "version": 3
   },
   "file_extension": ".py",
   "mimetype": "text/x-python",
   "name": "python",
   "nbconvert_exporter": "python",
   "pygments_lexer": "ipython3",
   "version": "3.9.12"
  }
 },
 "nbformat": 4,
 "nbformat_minor": 5
}
