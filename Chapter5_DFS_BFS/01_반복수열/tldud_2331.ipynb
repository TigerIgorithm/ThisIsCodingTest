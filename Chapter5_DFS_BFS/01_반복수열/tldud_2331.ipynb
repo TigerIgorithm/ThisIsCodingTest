{
 "cells": [
  {
   "cell_type": "code",
   "execution_count": 1,
   "id": "2b354a9f",
   "metadata": {},
   "outputs": [
    {
     "name": "stdout",
     "output_type": "stream",
     "text": [
      "57 2\n"
     ]
    }
   ],
   "source": [
    "# a는 D[1] 값, p는 각 자리 수를 몇 번 곱할 것인지\n",
    "a, p = map(int, input().split())"
   ]
  },
  {
   "cell_type": "code",
   "execution_count": 2,
   "id": "fb622ea6",
   "metadata": {},
   "outputs": [
    {
     "data": {
      "text/plain": [
       "[57]"
      ]
     },
     "execution_count": 2,
     "metadata": {},
     "output_type": "execute_result"
    }
   ],
   "source": [
    "index = 0\n",
    "sulist = []\n",
    "sulist.append(a)\n",
    "sulist"
   ]
  },
  {
   "cell_type": "code",
   "execution_count": 3,
   "id": "2331027c",
   "metadata": {},
   "outputs": [
    {
     "name": "stdout",
     "output_type": "stream",
     "text": [
      "4\n"
     ]
    }
   ],
   "source": [
    "# 수열 D에 추가될 다음 수를 구하는 함수\n",
    "def Dplus(su, p):\n",
    "    str_su = str(su)\n",
    "    new_su = 0\n",
    "    for i in str_su:\n",
    "        i = int(i)\n",
    "        new_su += i**p\n",
    "    return new_su\n",
    "\n",
    "def search(su):\n",
    "    global index\n",
    "    for j in sulist[:-1]:\n",
    "        if su == j:\n",
    "            index = sulist.index(j)\n",
    "    return index\n",
    "\n",
    "while True:\n",
    "    new = Dplus(sulist[-1], p)\n",
    "    sulist.append(new)\n",
    "    search(sulist[-1])\n",
    "    if index != 0:\n",
    "        break\n",
    "        \n",
    "print(index)"
   ]
  },
  {
   "cell_type": "code",
   "execution_count": 4,
   "id": "3d448191",
   "metadata": {},
   "outputs": [],
   "source": [
    "# A = 24, P=2 => 1"
   ]
  }
 ],
 "metadata": {
  "kernelspec": {
   "display_name": "Python 3",
   "language": "python",
   "name": "python3"
  },
  "language_info": {
   "codemirror_mode": {
    "name": "ipython",
    "version": 3
   },
   "file_extension": ".py",
   "mimetype": "text/x-python",
   "name": "python",
   "nbconvert_exporter": "python",
   "pygments_lexer": "ipython3",
   "version": "3.9.2"
  }
 },
 "nbformat": 4,
 "nbformat_minor": 5
}
