{
 "cells": [
  {
   "cell_type": "code",
   "execution_count": 92,
   "id": "05d32c32",
   "metadata": {},
   "outputs": [
    {
     "name": "stdout",
     "output_type": "stream",
     "text": [
      "5\n",
      "6 8 2 6 2\n",
      "3 2 3 4 6\n",
      "6 7 3 3 2\n",
      "7 2 5 3 6\n",
      "8 9 5 2 7\n"
     ]
    }
   ],
   "source": [
    "n = int(input())\n",
    "\n",
    "nxn = [input().split() for _ in range(n)]"
   ]
  },
  {
   "cell_type": "code",
   "execution_count": 94,
   "id": "a2c83c06",
   "metadata": {},
   "outputs": [
    {
     "name": "stdout",
     "output_type": "stream",
     "text": [
      "[[6, 8, 2, 6, 2],\n",
      " [3, 2, 3, 4, 6],\n",
      " [6, 7, 3, 3, 2],\n",
      " [7, 2, 5, 3, 6],\n",
      " [8, 9, 5, 2, 7]]\n"
     ]
    }
   ],
   "source": [
    "for i in range(n):\n",
    "    for j in range(n):\n",
    "        nxn[i][j] = int(nxn[i][j])\n",
    "pprint(nxn)"
   ]
  },
  {
   "cell_type": "code",
   "execution_count": 95,
   "id": "7a08ab40",
   "metadata": {},
   "outputs": [
    {
     "name": "stdout",
     "output_type": "stream",
     "text": [
      "2 9\n"
     ]
    }
   ],
   "source": [
    "# 2차원 배열 전체 중 최댓값 최솟값 구하기\n",
    "minv = min(map(min, nxn))\n",
    "maxv = max(map(max, nxn))\n",
    "print(minv, maxv)"
   ]
  },
  {
   "cell_type": "code",
   "execution_count": 96,
   "id": "cf904573",
   "metadata": {},
   "outputs": [],
   "source": [
    "def dfs(x, y):\n",
    "    if x<0 or x>= n or y < 0 or y >=n:\n",
    "        return False\n",
    "    \n",
    "    if area[x][y] == 1:\n",
    "        area[x][y] = 0\n",
    "        \n",
    "        dfs(x-1, y)\n",
    "        dfs(x, y-1)\n",
    "        dfs(x+1, y)\n",
    "        dfs(x, y+1)\n",
    "        return True\n",
    "    return False"
   ]
  },
  {
   "cell_type": "code",
   "execution_count": 97,
   "id": "7a66d218",
   "metadata": {},
   "outputs": [],
   "source": [
    "def afterrain(area):\n",
    "    for i in range(n):\n",
    "        for j in range(n):\n",
    "            if area[i][j] - h > 0:\n",
    "                area[i][j] = 1\n",
    "            else:\n",
    "                area[i][j] = 0"
   ]
  },
  {
   "cell_type": "code",
   "execution_count": 98,
   "id": "16726717",
   "metadata": {},
   "outputs": [
    {
     "name": "stdout",
     "output_type": "stream",
     "text": [
      "5\n"
     ]
    }
   ],
   "source": [
    "from pprint import pprint\n",
    "import copy\n",
    "\n",
    "cntarea =[]\n",
    "for h in range(minv, maxv+1):\n",
    "    result=0\n",
    "    area = copy.deepcopy(nxn)\n",
    "    afterrain(area)\n",
    "\n",
    "    for i in range(n):\n",
    "        for j in range(n):\n",
    "            if dfs(i,j) == True:\n",
    "                result += 1\n",
    "    cntarea.append(result)\n",
    "print(max(cntarea))"
   ]
  },
  {
   "cell_type": "code",
   "execution_count": null,
   "id": "0ed71731",
   "metadata": {},
   "outputs": [],
   "source": []
  },
  {
   "cell_type": "code",
   "execution_count": 99,
   "id": "5de1e4a3",
   "metadata": {},
   "outputs": [
    {
     "name": "stdout",
     "output_type": "stream",
     "text": [
      "5\n",
      "6 8 2 6 2\n",
      "3 2 3 4 6\n",
      "6 7 3 3 2\n",
      "7 2 5 3 6\n",
      "8 9 5 2 7\n",
      "5\n"
     ]
    }
   ],
   "source": [
    "from pprint import pprint\n",
    "import copy\n",
    "\n",
    "n = int(input())\n",
    "nxn = [input().split() for _ in range(n)]\n",
    "\n",
    "for i in range(n):\n",
    "    for j in range(n):\n",
    "        nxn[i][j] = int(nxn[i][j])\n",
    "minv = min(map(min, nxn))\n",
    "maxv = max(map(max, nxn))\n",
    "\n",
    "def dfs(x, y):\n",
    "    if x<0 or x>= n or y < 0 or y >=n:\n",
    "        return False\n",
    "    \n",
    "    if area[x][y] == 1:\n",
    "        area[x][y] = 0\n",
    "        \n",
    "        dfs(x-1, y)\n",
    "        dfs(x, y-1)\n",
    "        dfs(x+1, y)\n",
    "        dfs(x, y+1)\n",
    "        return True\n",
    "    return False\n",
    "def afterrain(area):\n",
    "    for i in range(n):\n",
    "        for j in range(n):\n",
    "            if area[i][j] - h > 0:\n",
    "                area[i][j] = 1\n",
    "            else:\n",
    "                area[i][j] = 0\n",
    "\n",
    "def afterrain(area):\n",
    "    for i in range(n):\n",
    "        for j in range(n):\n",
    "            if area[i][j] - h > 0:\n",
    "                area[i][j] = 1\n",
    "            else:\n",
    "                area[i][j] = 0\n",
    "\n",
    "cntarea =[]\n",
    "for h in range(minv, maxv+1):\n",
    "    result=0\n",
    "    area = copy.deepcopy(nxn)\n",
    "    afterrain(area)\n",
    "\n",
    "    for i in range(n):\n",
    "        for j in range(n):\n",
    "            if dfs(i,j) == True:\n",
    "                result += 1\n",
    "    cntarea.append(result)\n",
    "print(max(cntarea))"
   ]
  }
 ],
 "metadata": {
  "kernelspec": {
   "display_name": "Python 3",
   "language": "python",
   "name": "python3"
  },
  "language_info": {
   "codemirror_mode": {
    "name": "ipython",
    "version": 3
   },
   "file_extension": ".py",
   "mimetype": "text/x-python",
   "name": "python",
   "nbconvert_exporter": "python",
   "pygments_lexer": "ipython3",
   "version": "3.9.2"
  }
 },
 "nbformat": 4,
 "nbformat_minor": 5
}
