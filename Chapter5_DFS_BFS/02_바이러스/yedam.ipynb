{
 "cells": [
  {
   "cell_type": "markdown",
   "id": "a1c95efc",
   "metadata": {},
   "source": [
    "https://www.acmicpc.net/board/view/87929"
   ]
  },
  {
   "cell_type": "code",
   "execution_count": 22,
   "id": "e9f0f322",
   "metadata": {},
   "outputs": [],
   "source": [
    "n = 7 # 컴퓨터 수\n",
    "m = 6 # 연결된 수\n",
    "\n",
    "link = [[1, 2],\n",
    "       [2, 3],\n",
    "       [1, 5],\n",
    "       [5, 2],\n",
    "       [5, 6],\n",
    "       [4, 7]]"
   ]
  },
  {
   "cell_type": "code",
   "execution_count": 23,
   "id": "1c9369ee",
   "metadata": {},
   "outputs": [],
   "source": [
    "from collections import deque\n",
    "\n",
    "\n",
    "def bfs(s1, s2):\n",
    "    virus = []\n",
    "\n",
    "    queue = deque()\n",
    "    queue.append((s1, s2))\n",
    "    \n",
    "    while queue:\n",
    "        s1, s2 = queue.popleft()\n",
    "        if s1 not in virus:\n",
    "            virus.append(s1)\n",
    "        if s2 not in virus:\n",
    "            virus.append(s2)\n",
    "            \n",
    "        for numbers in link:\n",
    "            if s1 in numbers or s2 in numbers:\n",
    "                queue.append((numbers[0],numbers[1]))\n",
    "                link.remove(numbers)\n",
    "                \n",
    "    return virus"
   ]
  },
  {
   "cell_type": "code",
   "execution_count": 24,
   "id": "f24c7e94",
   "metadata": {},
   "outputs": [
    {
     "name": "stdout",
     "output_type": "stream",
     "text": [
      "deque([(1, 1)])\n",
      "deque([(1, 2), (1, 5)])\n",
      "deque([(1, 5), (2, 3)])\n",
      "deque([(2, 3), (5, 2)])\n",
      "deque([(5, 2)])\n",
      "deque([(5, 6)])\n"
     ]
    },
    {
     "data": {
      "text/plain": [
       "[1, 2, 5, 3, 6]"
      ]
     },
     "execution_count": 24,
     "metadata": {},
     "output_type": "execute_result"
    }
   ],
   "source": [
    "bfs(1,1)"
   ]
  },
  {
   "cell_type": "code",
   "execution_count": 25,
   "id": "3ce1b0da",
   "metadata": {},
   "outputs": [
    {
     "name": "stdout",
     "output_type": "stream",
     "text": [
      "4\n"
     ]
    }
   ],
   "source": [
    "print(len(virus) - 1)"
   ]
  },
  {
   "cell_type": "markdown",
   "id": "966ea747",
   "metadata": {},
   "source": [
    "## 제출 답안"
   ]
  },
  {
   "cell_type": "code",
   "execution_count": 26,
   "id": "54db1f80",
   "metadata": {},
   "outputs": [
    {
     "name": "stdout",
     "output_type": "stream",
     "text": [
      "7\n",
      "6\n",
      "1 2\n",
      "2 3\n",
      "1 5\n",
      "5 2\n",
      "5 6\n",
      "4 7\n",
      "4\n"
     ]
    }
   ],
   "source": [
    "n = int(input())\n",
    "m = int(input())\n",
    "\n",
    "link = []\n",
    "for _ in range(m):\n",
    "    link.append(list(map(int, input().split())))\n",
    "    \n",
    "from collections import deque\n",
    "\n",
    "\n",
    "def bfs(s1, s2):\n",
    "    virus = []\n",
    "\n",
    "    queue = deque()\n",
    "    queue.append((s1, s2))\n",
    "    \n",
    "    while queue:\n",
    "        s1, s2 = queue.popleft()\n",
    "        if s1 not in virus:\n",
    "            virus.append(s1)\n",
    "        if s2 not in virus:\n",
    "            virus.append(s2)\n",
    "            \n",
    "        for numbers in link:\n",
    "            if s1 in numbers or s2 in numbers:\n",
    "                queue.append((numbers[0],numbers[1]))\n",
    "                link.remove(numbers)\n",
    "                \n",
    "    return virus\n",
    "\n",
    "result_virus = []\n",
    "result_virus = bfs(1,1)\n",
    "print(len(result_virus) - 1)"
   ]
  }
 ],
 "metadata": {
  "kernelspec": {
   "display_name": "Python 3 (ipykernel)",
   "language": "python",
   "name": "python3"
  },
  "language_info": {
   "codemirror_mode": {
    "name": "ipython",
    "version": 3
   },
   "file_extension": ".py",
   "mimetype": "text/x-python",
   "name": "python",
   "nbconvert_exporter": "python",
   "pygments_lexer": "ipython3",
   "version": "3.9.7"
  }
 },
 "nbformat": 4,
 "nbformat_minor": 5
}
