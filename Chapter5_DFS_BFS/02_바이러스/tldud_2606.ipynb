{
 "cells": [
  {
   "cell_type": "code",
   "execution_count": 4,
   "id": "8cacbb06",
   "metadata": {},
   "outputs": [
    {
     "name": "stdout",
     "output_type": "stream",
     "text": [
      "100\n",
      "8\n",
      "100 2\n",
      "2 100\n",
      "3 50\n",
      "50 49\n",
      "49 48\n",
      "47 1\n",
      "48 47\n",
      "3 2\n"
     ]
    }
   ],
   "source": [
    "# 컴퓨터 수\n",
    "n = int(input())\n",
    "edge = int(input())\n",
    "line = [input().split() for _ in range(edge)]"
   ]
  },
  {
   "cell_type": "code",
   "execution_count": 5,
   "id": "1468506a",
   "metadata": {},
   "outputs": [
    {
     "data": {
      "text/plain": [
       "[['100', '2'],\n",
       " ['2', '100'],\n",
       " ['3', '50'],\n",
       " ['50', '49'],\n",
       " ['49', '48'],\n",
       " ['47', '1'],\n",
       " ['48', '47'],\n",
       " ['3', '2']]"
      ]
     },
     "execution_count": 5,
     "metadata": {},
     "output_type": "execute_result"
    }
   ],
   "source": [
    "line"
   ]
  },
  {
   "cell_type": "code",
   "execution_count": 6,
   "id": "22dfc118",
   "metadata": {},
   "outputs": [
    {
     "name": "stdout",
     "output_type": "stream",
     "text": [
      "[48, 1, 47]\n",
      "2\n"
     ]
    }
   ],
   "source": [
    "# 1번 컴퓨터랑 연결되어 있는 컴퓨터 리스트 com\n",
    "# 순서 고려 안 함. 틀린 답\n",
    "com = [1]\n",
    "for i in line:\n",
    "    for j in i:\n",
    "        if int(j) in com:\n",
    "            i.remove(j)\n",
    "            com.append(int(i.pop()))\n",
    "com = list(set(com))\n",
    "print(com)\n",
    "print(len(com)-1)"
   ]
  },
  {
   "cell_type": "markdown",
   "id": "2997d92c",
   "metadata": {},
   "source": [
    "BFS 풀이"
   ]
  },
  {
   "cell_type": "code",
   "execution_count": 7,
   "id": "ffc33f64",
   "metadata": {},
   "outputs": [
    {
     "name": "stdout",
     "output_type": "stream",
     "text": [
      "7\n",
      "6\n",
      "1 2\n",
      "2 3\n",
      "1 5\n",
      "5 2\n",
      "5 6\n",
      "4 7\n",
      "4\n"
     ]
    }
   ],
   "source": [
    "n = int(input())\n",
    "m = int(input())\n",
    "\n",
    "link = []\n",
    "for _ in range(m):\n",
    "    link.append(list(map(int, input().split())))\n",
    "    \n",
    "from collections import deque\n",
    "\n",
    "\n",
    "def bfs(s1, s2):\n",
    "    virus = []\n",
    "\n",
    "    queue = deque()\n",
    "    queue.append((s1, s2))\n",
    "    \n",
    "    while queue:\n",
    "        s1, s2 = queue.popleft()\n",
    "        if s1 not in virus:\n",
    "            virus.append(s1)\n",
    "        if s2 not in virus:\n",
    "            virus.append(s2)\n",
    "            \n",
    "        for numbers in link:\n",
    "            if s1 in numbers or s2 in numbers:\n",
    "                queue.append((numbers[0],numbers[1]))\n",
    "                link.remove(numbers)\n",
    "                \n",
    "    return virus\n",
    "\n",
    "result_virus = []\n",
    "result_virus = bfs(1,1)\n",
    "print(len(result_virus) - 1)"
   ]
  }
 ],
 "metadata": {
  "kernelspec": {
   "display_name": "Python 3",
   "language": "python",
   "name": "python3"
  },
  "language_info": {
   "codemirror_mode": {
    "name": "ipython",
    "version": 3
   },
   "file_extension": ".py",
   "mimetype": "text/x-python",
   "name": "python",
   "nbconvert_exporter": "python",
   "pygments_lexer": "ipython3",
   "version": "3.9.2"
  }
 },
 "nbformat": 4,
 "nbformat_minor": 5
}
