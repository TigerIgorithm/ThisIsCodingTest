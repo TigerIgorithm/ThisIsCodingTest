{
 "cells": [
  {
   "cell_type": "code",
   "execution_count": 1,
   "id": "8cacbb06",
   "metadata": {},
   "outputs": [
    {
     "name": "stdout",
     "output_type": "stream",
     "text": [
      "7\n",
      "6\n",
      "1 2\n",
      "2 3\n",
      "1 5\n",
      "5 2\n",
      "5 6\n",
      "4 7\n"
     ]
    }
   ],
   "source": [
    "# 컴퓨터 수\n",
    "n = int(input())\n",
    "edge = int(input())\n",
    "line = [input().split() for _ in range(edge)]"
   ]
  },
  {
   "cell_type": "code",
   "execution_count": 2,
   "id": "1468506a",
   "metadata": {},
   "outputs": [
    {
     "data": {
      "text/plain": [
       "[['1', '2'], ['2', '3'], ['1', '5'], ['5', '2'], ['5', '6'], ['4', '7']]"
      ]
     },
     "execution_count": 2,
     "metadata": {},
     "output_type": "execute_result"
    }
   ],
   "source": [
    "line"
   ]
  },
  {
   "cell_type": "code",
   "execution_count": 3,
   "id": "22dfc118",
   "metadata": {},
   "outputs": [
    {
     "name": "stdout",
     "output_type": "stream",
     "text": [
      "[1, 2, 3, 5, 6]\n",
      "4\n"
     ]
    }
   ],
   "source": [
    "# 1번 컴퓨터랑 연결되어 있는 컴퓨터 리스트 com\n",
    "com = [1]\n",
    "for i in line:\n",
    "    for j in i:\n",
    "        if int(j) in com:\n",
    "            i.remove(j)\n",
    "            com.append(int(i.pop()))\n",
    "com = list(set(com))\n",
    "print(com)\n",
    "print(len(com)-1)"
   ]
  }
 ],
 "metadata": {
  "kernelspec": {
   "display_name": "Python 3",
   "language": "python",
   "name": "python3"
  },
  "language_info": {
   "codemirror_mode": {
    "name": "ipython",
    "version": 3
   },
   "file_extension": ".py",
   "mimetype": "text/x-python",
   "name": "python",
   "nbconvert_exporter": "python",
   "pygments_lexer": "ipython3",
   "version": "3.9.2"
  }
 },
 "nbformat": 4,
 "nbformat_minor": 5
}
