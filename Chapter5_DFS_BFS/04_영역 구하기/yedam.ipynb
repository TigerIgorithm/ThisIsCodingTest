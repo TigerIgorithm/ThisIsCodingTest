{
 "cells": [
  {
   "cell_type": "code",
   "execution_count": 23,
   "id": "d3f51c08",
   "metadata": {},
   "outputs": [],
   "source": [
    "m, n, k = 5, 7, 3\n",
    "\n",
    "area = [[0, 2, 4, 4],\n",
    "       [1, 1, 2, 5],\n",
    "       [4, 0, 6, 2]]"
   ]
  },
  {
   "cell_type": "code",
   "execution_count": 24,
   "id": "d6f4187e",
   "metadata": {},
   "outputs": [],
   "source": [
    "graph = [[0 for _ in range(n)] for _ in range(m)]\n",
    "\n",
    "for i in range(k):\n",
    "    x1, y1, x2, y2 = area[i]\n",
    "    for y in range(m-y2, m-y1):\n",
    "        for x in range(x1, x2):\n",
    "            graph[y][x] = 1"
   ]
  },
  {
   "cell_type": "code",
   "execution_count": 25,
   "id": "5bc4acbd",
   "metadata": {},
   "outputs": [
    {
     "name": "stdout",
     "output_type": "stream",
     "text": [
      "[[0, 1, 0, 0, 0, 0, 0],\n",
      " [1, 1, 1, 1, 0, 0, 0],\n",
      " [1, 1, 1, 1, 0, 0, 0],\n",
      " [0, 1, 0, 0, 1, 1, 0],\n",
      " [0, 0, 0, 0, 1, 1, 0]]\n"
     ]
    }
   ],
   "source": [
    "from pprint import pprint\n",
    "pprint(graph)"
   ]
  },
  {
   "cell_type": "code",
   "execution_count": 26,
   "id": "46b33a9d",
   "metadata": {},
   "outputs": [],
   "source": [
    "def dfs(x, y):\n",
    "    # 주어진 범위 벗어나는 경우 즉시 종료\n",
    "    if x <= -1 or x >= m or y <= -1 or y >= n:\n",
    "        return False\n",
    "    \n",
    "    global area_size\n",
    "    # 현재 노드를 아직 방문하지 않았다면\n",
    "    if graph[x][y] == 0:\n",
    "        graph[x][y] = 1\n",
    "        # 상, 하, 좌, 우의 위치도 모두 재귀적으로 호출\n",
    "        dfs(x-1, y)\n",
    "        dfs(x, y-1)\n",
    "        dfs(x+1, y)\n",
    "        dfs(x, y+1)\n",
    "        \n",
    "        area_size += 1\n",
    "        return True\n",
    "    \n",
    "    return False"
   ]
  },
  {
   "cell_type": "code",
   "execution_count": 27,
   "id": "eeffccc9",
   "metadata": {},
   "outputs": [
    {
     "name": "stdout",
     "output_type": "stream",
     "text": [
      "5 7\n"
     ]
    }
   ],
   "source": [
    "print(m, n)"
   ]
  },
  {
   "cell_type": "code",
   "execution_count": 28,
   "id": "274ee09f",
   "metadata": {},
   "outputs": [
    {
     "name": "stdout",
     "output_type": "stream",
     "text": [
      "3\n"
     ]
    }
   ],
   "source": [
    "result = 0\n",
    "size = []\n",
    "for i in range(m):\n",
    "    for j in range(n):\n",
    "        area_size = 0\n",
    "        if dfs(i, j) == True:\n",
    "            result += 1\n",
    "            size.append(area_size)\n",
    "            \n",
    "            \n",
    "print(result)"
   ]
  },
  {
   "cell_type": "code",
   "execution_count": 29,
   "id": "2dacb361",
   "metadata": {},
   "outputs": [
    {
     "data": {
      "text/plain": [
       "[1, 13, 7]"
      ]
     },
     "execution_count": 29,
     "metadata": {},
     "output_type": "execute_result"
    }
   ],
   "source": [
    "size"
   ]
  },
  {
   "cell_type": "code",
   "execution_count": 33,
   "id": "1bb3a9ce",
   "metadata": {},
   "outputs": [],
   "source": [
    "size.sort()"
   ]
  },
  {
   "cell_type": "code",
   "execution_count": 39,
   "id": "fa915f89",
   "metadata": {},
   "outputs": [
    {
     "name": "stdout",
     "output_type": "stream",
     "text": [
      "1 7 13 "
     ]
    }
   ],
   "source": [
    "for n in size:\n",
    "    print(n, end = \" \")"
   ]
  },
  {
   "cell_type": "markdown",
   "id": "f4a575a9",
   "metadata": {},
   "source": [
    "## 제출 코드"
   ]
  },
  {
   "cell_type": "code",
   "execution_count": 53,
   "id": "08187bab",
   "metadata": {},
   "outputs": [
    {
     "name": "stdout",
     "output_type": "stream",
     "text": [
      "5 7 3\n",
      "0 2 4 4\n",
      "1 1 2 5\n",
      "4 0 6 2\n",
      "3\n",
      "1 7 13 "
     ]
    }
   ],
   "source": [
    "m, n, k = map(int, input().split())\n",
    "area = []\n",
    "for _ in range(k):\n",
    "    area.append(list(map(int, input().split())))\n",
    "    \n",
    "graph = [[0 for _ in range(n)] for _ in range(m)]\n",
    "\n",
    "for i in range(k):\n",
    "    x1, y1, x2, y2 = area[i]\n",
    "    for y in range(m - y2, m - y1):\n",
    "        for x in range(x1, x2):\n",
    "            graph[y][x] = 1\n",
    "\n",
    "import sys\n",
    "sys.setrecursionlimit(10**6)\n",
    "\n",
    "def dfs(x, y):\n",
    "    # 범위 벗어나는 경우\n",
    "    if x < 0 or x >= m or y < 0 or y >= n:\n",
    "        return False\n",
    "    \n",
    "    global area_size\n",
    "    if graph[x][y] == 0:\n",
    "        graph[x][y] = 1\n",
    "        \n",
    "        dfs(x-1, y)\n",
    "        dfs(x+1, y)\n",
    "        dfs(x, y-1)\n",
    "        dfs(x, y+1)\n",
    "        \n",
    "        area_size += 1\n",
    "        return True\n",
    "        \n",
    "    return False\n",
    "\n",
    "result = 0\n",
    "size = []\n",
    "\n",
    "for i in range(m):\n",
    "    for j in range(n):\n",
    "        area_size = 0\n",
    "        if dfs(i, j) == True:\n",
    "            result += 1\n",
    "            size.append(area_size)\n",
    "            \n",
    "print(result)\n",
    "\n",
    "size.sort()\n",
    "for n in size:\n",
    "    print(n, end = \" \")"
   ]
  },
  {
   "cell_type": "code",
   "execution_count": null,
   "id": "e63a337e",
   "metadata": {},
   "outputs": [],
   "source": []
  }
 ],
 "metadata": {
  "kernelspec": {
   "display_name": "Python 3 (ipykernel)",
   "language": "python",
   "name": "python3"
  },
  "language_info": {
   "codemirror_mode": {
    "name": "ipython",
    "version": 3
   },
   "file_extension": ".py",
   "mimetype": "text/x-python",
   "name": "python",
   "nbconvert_exporter": "python",
   "pygments_lexer": "ipython3",
   "version": "3.9.7"
  }
 },
 "nbformat": 4,
 "nbformat_minor": 5
}
