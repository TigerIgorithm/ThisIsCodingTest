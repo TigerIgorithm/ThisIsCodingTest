{
 "cells": [
  {
   "cell_type": "code",
   "execution_count": 1,
   "id": "2836c83e",
   "metadata": {},
   "outputs": [
    {
     "name": "stdout",
     "output_type": "stream",
     "text": [
      "5 7 3\n",
      "0 2 4 4\n",
      "1 1 2 5\n",
      "4 0 6 2\n"
     ]
    }
   ],
   "source": [
    "# m = 세로 길이, n = 가로 길이, k = 직사각형 개수\n",
    "m, n, k = map(int, input().split())\n",
    "\n",
    "abt_k = [input().split() for _ in range(k)]"
   ]
  },
  {
   "cell_type": "code",
   "execution_count": 2,
   "id": "657de4d0",
   "metadata": {},
   "outputs": [
    {
     "data": {
      "text/plain": [
       "[['0', '2', '4', '4'], ['1', '1', '2', '5'], ['4', '0', '6', '2']]"
      ]
     },
     "execution_count": 2,
     "metadata": {},
     "output_type": "execute_result"
    }
   ],
   "source": [
    "abt_k"
   ]
  },
  {
   "cell_type": "code",
   "execution_count": 3,
   "id": "a7e96f53",
   "metadata": {},
   "outputs": [
    {
     "data": {
      "text/plain": [
       "[[1, 1, 1, 1, 1, 1, 1],\n",
       " [1, 1, 1, 1, 1, 1, 1],\n",
       " [1, 1, 1, 1, 1, 1, 1],\n",
       " [1, 1, 1, 1, 1, 1, 1],\n",
       " [1, 1, 1, 1, 1, 1, 1]]"
      ]
     },
     "execution_count": 3,
     "metadata": {},
     "output_type": "execute_result"
    }
   ],
   "source": [
    "area = [[1]*n for _ in range(m)]\n",
    "area"
   ]
  },
  {
   "cell_type": "code",
   "execution_count": 4,
   "id": "343276c1",
   "metadata": {},
   "outputs": [],
   "source": [
    "# 좌표를 area에 맞게 바꾸기\n",
    "def pnt_to_area(pnt):\n",
    "    res = []\n",
    "    newx = m-(pnt[1]-1)\n",
    "    newy = pnt[0]\n",
    "    res.append(newx)\n",
    "    res.append(newy)\n",
    "    return res\n",
    "\n",
    "# 1 -> 0\n",
    "def onoff(x, y):\n",
    "    x -= 1\n",
    "    y -= 1\n",
    "    if area[x][y] == 1:\n",
    "        area[x][y] = 0"
   ]
  },
  {
   "cell_type": "code",
   "execution_count": 5,
   "id": "3f055cb2",
   "metadata": {},
   "outputs": [],
   "source": [
    "for i in abt_k:\n",
    "    LB = []\n",
    "    RT = []\n",
    "    \n",
    "    i[0] = int(i[0])+1\n",
    "    i[1] = int(i[1])+1\n",
    "    i[2] = int(i[2])\n",
    "    i[3] = int(i[3])\n",
    "    LB = i[:2]\n",
    "    RT = i[2:]\n",
    "    \n",
    "    newlb = pnt_to_area(LB)\n",
    "    newrt = pnt_to_area(RT)\n",
    "    \n",
    "    minx = min(newlb[0], newrt[0])\n",
    "    miny = min(newlb[1], newrt[1])\n",
    "    for j in range(abs(newlb[0]-newrt[0])+1):\n",
    "        j += minx\n",
    "        for k in range(abs(newlb[1]-newrt[1])+1):\n",
    "            k += miny\n",
    "            onoff(j, k)"
   ]
  },
  {
   "cell_type": "code",
   "execution_count": 6,
   "id": "70ae32fa",
   "metadata": {},
   "outputs": [
    {
     "name": "stdout",
     "output_type": "stream",
     "text": [
      "[[1, 0, 1, 1, 1, 1, 1],\n",
      " [0, 0, 0, 0, 1, 1, 1],\n",
      " [0, 0, 0, 0, 1, 1, 1],\n",
      " [1, 0, 1, 1, 0, 0, 1],\n",
      " [1, 1, 1, 1, 0, 0, 1]]\n"
     ]
    }
   ],
   "source": [
    "from pprint import pprint\n",
    "pprint(area)"
   ]
  },
  {
   "cell_type": "code",
   "execution_count": 7,
   "id": "07e578bc",
   "metadata": {},
   "outputs": [],
   "source": [
    "## 직사각형부분 제외하는 것까지 완료!!\n",
    "def dfs(x, y):\n",
    "    global resa\n",
    "    if x<0 or x>= m or y < 0 or y >=n:\n",
    "        return False\n",
    "    \n",
    "    if area[x][y] == 1:\n",
    "        area[x][y] = 0\n",
    "        \n",
    "        dfs(x-1, y)\n",
    "        dfs(x, y-1)\n",
    "        dfs(x+1, y)\n",
    "        dfs(x, y+1)\n",
    "        resa += 1\n",
    "        return True\n",
    "    return False"
   ]
  },
  {
   "cell_type": "code",
   "execution_count": 8,
   "id": "e9f3e615",
   "metadata": {},
   "outputs": [],
   "source": [
    "result = 0\n",
    "res =[]\n",
    "for i in range(m):\n",
    "    for j in range(n):\n",
    "        resa = 0\n",
    "        if dfs(i,j) == True:\n",
    "            result += 1\n",
    "            res.append(resa)"
   ]
  },
  {
   "cell_type": "code",
   "execution_count": 9,
   "id": "2954cb13",
   "metadata": {},
   "outputs": [],
   "source": [
    "res.sort()"
   ]
  },
  {
   "cell_type": "code",
   "execution_count": 10,
   "id": "9f844f73",
   "metadata": {},
   "outputs": [
    {
     "name": "stdout",
     "output_type": "stream",
     "text": [
      "3\n",
      "1 7 13 "
     ]
    }
   ],
   "source": [
    "print(result)\n",
    "for x in res:\n",
    "    print(x, end = \" \")"
   ]
  },
  {
   "cell_type": "markdown",
   "id": "59e5bbb2",
   "metadata": {},
   "source": [
    "제출한 코드 "
   ]
  },
  {
   "cell_type": "code",
   "execution_count": 11,
   "id": "86b53fe0",
   "metadata": {},
   "outputs": [
    {
     "name": "stdout",
     "output_type": "stream",
     "text": [
      "5 7 3\n",
      "0 2 4 4\n",
      "1 1 2 5\n",
      "4 0 6 2\n",
      "3\n",
      "1 7 13 "
     ]
    }
   ],
   "source": [
    "import sys\n",
    "sys.setrecursionlimit(10**6)\n",
    "\n",
    "# m = 세로 길이, n = 가로 길이, k = 직사각형 개수\n",
    "m, n, k = map(int, input().split())\n",
    "abt_k = [input().split() for _ in range(k)]\n",
    "area = [[1]*n for _ in range(m)]\n",
    "\n",
    "def pnt_to_area(pnt):\n",
    "    res = []\n",
    "    newx = m-(pnt[1]-1)\n",
    "    newy = pnt[0]\n",
    "    res.append(newx)\n",
    "    res.append(newy)\n",
    "    return res\n",
    "\n",
    "# 1 -> 0\n",
    "def onoff(x, y):\n",
    "    x -= 1\n",
    "    y -= 1\n",
    "    if area[x][y] == 1:\n",
    "        area[x][y] = 0\n",
    "        \n",
    "def dfs(x, y):\n",
    "    global resa\n",
    "    if x<0 or x>= m or y < 0 or y >=n:\n",
    "        return False\n",
    "    \n",
    "    if area[x][y] == 1:\n",
    "        area[x][y] = 0\n",
    "        \n",
    "        dfs(x-1, y)\n",
    "        dfs(x, y-1)\n",
    "        dfs(x+1, y)\n",
    "        dfs(x, y+1)\n",
    "        resa += 1\n",
    "        return True\n",
    "    return False\n",
    "\n",
    "for i in abt_k:\n",
    "    LB = []\n",
    "    RT = []\n",
    "    \n",
    "    i[0] = int(i[0])+1\n",
    "    i[1] = int(i[1])+1\n",
    "    i[2] = int(i[2])\n",
    "    i[3] = int(i[3])\n",
    "    LB = i[:2]\n",
    "    RT = i[2:]\n",
    "    \n",
    "    newlb = pnt_to_area(LB)\n",
    "    newrt = pnt_to_area(RT)\n",
    "    \n",
    "    minx = min(newlb[0], newrt[0])\n",
    "    miny = min(newlb[1], newrt[1])\n",
    "    for j in range(abs(newlb[0]-newrt[0])+1):\n",
    "        j += minx\n",
    "        for k in range(abs(newlb[1]-newrt[1])+1):\n",
    "            k += miny\n",
    "            onoff(j, k)\n",
    "\n",
    "result = 0\n",
    "res =[]\n",
    "for i in range(m):\n",
    "    for j in range(n):\n",
    "        resa = 0\n",
    "        if dfs(i,j) == True:\n",
    "            result += 1\n",
    "            res.append(resa)\n",
    "res.sort()\n",
    "print(result)\n",
    "for x in res:\n",
    "    print(x, end = \" \")"
   ]
  }
 ],
 "metadata": {
  "kernelspec": {
   "display_name": "Python 3",
   "language": "python",
   "name": "python3"
  },
  "language_info": {
   "codemirror_mode": {
    "name": "ipython",
    "version": 3
   },
   "file_extension": ".py",
   "mimetype": "text/x-python",
   "name": "python",
   "nbconvert_exporter": "python",
   "pygments_lexer": "ipython3",
   "version": "3.9.2"
  }
 },
 "nbformat": 4,
 "nbformat_minor": 5
}
