{
 "cells": [
  {
   "cell_type": "code",
   "execution_count": 50,
   "id": "70dbb6c2",
   "metadata": {},
   "outputs": [
    {
     "name": "stdout",
     "output_type": "stream",
     "text": [
      "2\n",
      "8\n",
      "3 2 7 8 1 4 5 6\n",
      "10\n",
      "2 1 3 4 5 6 7 9 10 8\n"
     ]
    }
   ],
   "source": [
    "# 테스트 케이스 개수\n",
    "t = int(input())\n",
    "\n",
    "D = []\n",
    "lenD =[]\n",
    "for _ in range(t):\n",
    "    new =[]\n",
    "    lenD.append(int(input()))\n",
    "    new = list(input().split())\n",
    "    D.append(new)"
   ]
  },
  {
   "cell_type": "code",
   "execution_count": 51,
   "id": "df2fd11b",
   "metadata": {},
   "outputs": [
    {
     "name": "stdout",
     "output_type": "stream",
     "text": [
      "[[3, 2, 7, 8, 1, 4, 5, 6], [2, 1, 3, 4, 5, 6, 7, 9, 10, 8]]\n",
      "[8, 10]\n"
     ]
    }
   ],
   "source": [
    "for i in D:\n",
    "    for j in range(len(i)):\n",
    "        i[j] = int(i[j])\n",
    "print(D)\n",
    "print(lenD)"
   ]
  },
  {
   "cell_type": "code",
   "execution_count": 52,
   "id": "4bb84538",
   "metadata": {},
   "outputs": [],
   "source": [
    "import numpy as np\n",
    "\n",
    "def tolist(data): # data는 배열\n",
    "    newD = []\n",
    "    newD.append(list(range(1, len(data)+1)))\n",
    "    newD.append(data)\n",
    "\n",
    "    arr = np.array(newD)\n",
    "    arr = arr.T\n",
    "    \n",
    "    # 다시 2차원 배열로\n",
    "    li = arr.tolist()\n",
    "    return li"
   ]
  },
  {
   "cell_type": "code",
   "execution_count": 53,
   "id": "2da9a30d",
   "metadata": {},
   "outputs": [],
   "source": [
    "def search(data, res):\n",
    "    global same\n",
    "    cnt = 0\n",
    "    \n",
    "    if len(data) == 0:\n",
    "        return False\n",
    "    \n",
    "    for i in data:\n",
    "        if i[0] == res[-1]:\n",
    "            cnt += 1\n",
    "            same = i\n",
    "            res.append(same[1])\n",
    "            data.remove(i)\n",
    "        \n",
    "    if cnt == 0:\n",
    "        res.append(data[0][0])\n",
    "        res.append(data[0][1])\n",
    "        del data[0]\n",
    "        search(data, res)\n",
    "        \n",
    "    search(data, res)"
   ]
  },
  {
   "cell_type": "code",
   "execution_count": 55,
   "id": "7ca1954e",
   "metadata": {},
   "outputs": [
    {
     "name": "stdout",
     "output_type": "stream",
     "text": [
      "3\n",
      "7\n"
     ]
    }
   ],
   "source": [
    "for data in D:\n",
    "    data = tolist(data)\n",
    "\n",
    "    res =[]\n",
    "    res.append(data[0][0])\n",
    "    res.append(data[0][1])\n",
    "\n",
    "    del data[0]\n",
    "\n",
    "    search(data, res)\n",
    "\n",
    "    cnt =[]\n",
    "    for i in list(set(res)):\n",
    "        cnt.append(res.count(i))\n",
    "    print(cnt.count(2))"
   ]
  },
  {
   "cell_type": "code",
   "execution_count": 61,
   "id": "956844cd",
   "metadata": {},
   "outputs": [
    {
     "name": "stdout",
     "output_type": "stream",
     "text": [
      "2\n",
      "8\n",
      "3 2 7 8 1 4 5 6\n",
      "10\n",
      "2 1 3 4 5 6 7 9 10 8\n",
      "3\n",
      "7\n"
     ]
    }
   ],
   "source": [
    "# 제출 답\n",
    "t = int(input())\n",
    "D = []\n",
    "lenD =[]\n",
    "for _ in range(t):\n",
    "    new =[]\n",
    "    lenD.append(int(input()))\n",
    "    new = list(input().split())\n",
    "    D.append(new)\n",
    "    \n",
    "for i in D:\n",
    "    for j in range(len(i)):\n",
    "        i[j] = int(i[j])\n",
    "\n",
    "def tolist(data): # data는 배열\n",
    "    newD = []\n",
    "    newD.append(list(range(1, len(data)+1)))\n",
    "    newD.append(data)\n",
    "\n",
    "    li = [list(x) for x in zip(*newD)]\n",
    "    return li\n",
    "\n",
    "def search(data, res):\n",
    "    global same\n",
    "    cnt = 0\n",
    "    \n",
    "    if len(data) == 0:\n",
    "        return False\n",
    "    \n",
    "    for i in data:\n",
    "        if i[0] == res[-1]:\n",
    "            cnt += 1\n",
    "            same = i\n",
    "            res.append(same[1])\n",
    "            data.remove(i)\n",
    "        \n",
    "    if cnt == 0:\n",
    "        res.append(data[0][0])\n",
    "        res.append(data[0][1])\n",
    "        del data[0]\n",
    "        search(data, res)\n",
    "        \n",
    "    search(data, res)\n",
    "\n",
    "for data in D:\n",
    "    data = tolist(data)\n",
    "\n",
    "    res =[]\n",
    "    res.append(data[0][0])\n",
    "    res.append(data[0][1])\n",
    "\n",
    "    del data[0]\n",
    "\n",
    "    search(data, res)\n",
    "\n",
    "    cnt =[]\n",
    "    for i in list(set(res)):\n",
    "        cnt.append(res.count(i))\n",
    "    print(cnt.count(2))"
   ]
  }
 ],
 "metadata": {
  "kernelspec": {
   "display_name": "Python 3",
   "language": "python",
   "name": "python3"
  },
  "language_info": {
   "codemirror_mode": {
    "name": "ipython",
    "version": 3
   },
   "file_extension": ".py",
   "mimetype": "text/x-python",
   "name": "python",
   "nbconvert_exporter": "python",
   "pygments_lexer": "ipython3",
   "version": "3.9.2"
  }
 },
 "nbformat": 4,
 "nbformat_minor": 5
}
