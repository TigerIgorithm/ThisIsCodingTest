{
 "cells": [
  {
   "cell_type": "code",
   "execution_count": 2,
   "id": "4d08f35e",
   "metadata": {},
   "outputs": [
    {
     "name": "stdout",
     "output_type": "stream",
     "text": [
      "1110101\n"
     ]
    }
   ],
   "source": [
    "S = input()"
   ]
  },
  {
   "cell_type": "code",
   "execution_count": 10,
   "id": "b095df54",
   "metadata": {},
   "outputs": [
    {
     "data": {
      "text/plain": [
       "'111 0 1 0 1'"
      ]
     },
     "execution_count": 10,
     "metadata": {},
     "output_type": "execute_result"
    }
   ],
   "source": [
    "# rlatjdus 천재,, 최고...\n",
    "S= S.replace('01', '0 1')\n",
    "S= S.replace('10', '1 0')\n",
    "S"
   ]
  },
  {
   "cell_type": "code",
   "execution_count": 11,
   "id": "2bb1e864",
   "metadata": {},
   "outputs": [
    {
     "data": {
      "text/plain": [
       "['111', '0', '1', '0', '1']"
      ]
     },
     "execution_count": 11,
     "metadata": {},
     "output_type": "execute_result"
    }
   ],
   "source": [
    "listS = S.split()\n",
    "listS"
   ]
  },
  {
   "cell_type": "code",
   "execution_count": 12,
   "id": "352e82a4",
   "metadata": {},
   "outputs": [
    {
     "data": {
      "text/plain": [
       "2"
      ]
     },
     "execution_count": 12,
     "metadata": {},
     "output_type": "execute_result"
    }
   ],
   "source": [
    "cnt0 = 0\n",
    "cnt1 = 0\n",
    "\n",
    "for i in listS:\n",
    "    if i[0]== '0':\n",
    "        cnt0 +=1\n",
    "    else:\n",
    "        cnt1 += 1\n",
    "res = min(cnt0, cnt1)\n",
    "res"
   ]
  }
 ],
 "metadata": {
  "kernelspec": {
   "display_name": "Python 3",
   "language": "python",
   "name": "python3"
  },
  "language_info": {
   "codemirror_mode": {
    "name": "ipython",
    "version": 3
   },
   "file_extension": ".py",
   "mimetype": "text/x-python",
   "name": "python",
   "nbconvert_exporter": "python",
   "pygments_lexer": "ipython3",
   "version": "3.9.2"
  }
 },
 "nbformat": 4,
 "nbformat_minor": 5
}
