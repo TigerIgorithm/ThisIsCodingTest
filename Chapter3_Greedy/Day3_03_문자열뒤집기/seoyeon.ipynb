{
 "cells": [
  {
   "cell_type": "code",
   "execution_count": 5,
   "id": "e504e533",
   "metadata": {},
   "outputs": [
    {
     "name": "stdout",
     "output_type": "stream",
     "text": [
      "10110001111\n"
     ]
    }
   ],
   "source": [
    "str = input()"
   ]
  },
  {
   "cell_type": "code",
   "execution_count": 2,
   "id": "74a72317",
   "metadata": {},
   "outputs": [
    {
     "data": {
      "text/plain": [
       "'1 0 11 000 1111'"
      ]
     },
     "execution_count": 2,
     "metadata": {},
     "output_type": "execute_result"
    }
   ],
   "source": [
    "str = str.replace('01', '0 1')\n",
    "str = str.replace('10', '1 0')\n",
    "str"
   ]
  },
  {
   "cell_type": "code",
   "execution_count": 3,
   "id": "63e4e3b4",
   "metadata": {},
   "outputs": [
    {
     "data": {
      "text/plain": [
       "['1', '0', '11', '000', '1111']"
      ]
     },
     "execution_count": 3,
     "metadata": {},
     "output_type": "execute_result"
    }
   ],
   "source": [
    "str = str.split(' ')\n",
    "str"
   ]
  },
  {
   "cell_type": "code",
   "execution_count": 4,
   "id": "9ddb64f8",
   "metadata": {},
   "outputs": [
    {
     "name": "stdout",
     "output_type": "stream",
     "text": [
      "2\n"
     ]
    }
   ],
   "source": [
    "count_0 = 0\n",
    "count_1 = 0\n",
    "\n",
    "for i in str:\n",
    "    if i[0] == '0':\n",
    "        count_0 += 1\n",
    "    else:\n",
    "        count_1 += 1\n",
    "        \n",
    "result = min(count_0, count_1)\n",
    "print(result)"
   ]
  },
  {
   "cell_type": "markdown",
   "id": "5a2f2d6a",
   "metadata": {},
   "source": [
    "답안 1"
   ]
  },
  {
   "cell_type": "code",
   "execution_count": 6,
   "id": "fa278d58",
   "metadata": {},
   "outputs": [],
   "source": [
    "count0 = 0 # 전부 0으로 바꾸는 경우\n",
    "count1 = 0 # 전부 1로 바꾸는 경우\n",
    "\n",
    "#첫 번째 원소에 대해서 처리\n",
    "if str[0] == '1': # 만약에 첫 문자가 1이라면 1은 0으로 바꾸게 되므로 count0이 1 증가\n",
    "    count0 += 1\n",
    "else:\n",
    "    count1 += 1"
   ]
  },
  {
   "cell_type": "code",
   "execution_count": 7,
   "id": "20454ffa",
   "metadata": {},
   "outputs": [
    {
     "name": "stdout",
     "output_type": "stream",
     "text": [
      "2\n"
     ]
    }
   ],
   "source": [
    "# 두 번째 원소부터 모든 원소를 확인하며\n",
    "for i in range(len(str) - 1):\n",
    "    if str[i] != str[i+1]: # 만약에 앞 뒤의 숫자가 같지 않다면\n",
    "        if str[i+1] == '1': # 다음의 수가 1이므로 1은 0으로 바뀌니까 count0이 1 증가\n",
    "            count0 += 1\n",
    "        else: # 다음의 수가 0이므로 0은 1로 바뀌니까 count1이 1 증가\n",
    "            count1 += 1\n",
    "            \n",
    "result = min(count0, count1)\n",
    "\n",
    "print(result)"
   ]
  }
 ],
 "metadata": {
  "kernelspec": {
   "display_name": "Python 3 (ipykernel)",
   "language": "python",
   "name": "python3"
  },
  "language_info": {
   "codemirror_mode": {
    "name": "ipython",
    "version": 3
   },
   "file_extension": ".py",
   "mimetype": "text/x-python",
   "name": "python",
   "nbconvert_exporter": "python",
   "pygments_lexer": "ipython3",
   "version": "3.9.12"
  }
 },
 "nbformat": 4,
 "nbformat_minor": 5
}
