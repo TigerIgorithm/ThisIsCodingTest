{
 "cells": [
  {
   "cell_type": "markdown",
   "id": "2e596fbd",
   "metadata": {},
   "source": [
    "## 230313"
   ]
  },
  {
   "cell_type": "code",
   "execution_count": 35,
   "id": "1b4912da",
   "metadata": {},
   "outputs": [
    {
     "name": "stdout",
     "output_type": "stream",
     "text": [
      "00011100111100\n",
      "2\n"
     ]
    }
   ],
   "source": [
    "S = input()\n",
    "def solution(S):\n",
    "    S = S.replace(\"10\", '1 0')\n",
    "    S = S.replace('01', '0 1')\n",
    "    \n",
    "    temp = list(S.split())\n",
    "    \n",
    "    zero_cnt = 0\n",
    "    for zero in temp:\n",
    "        if '0' in zero:\n",
    "            zero_cnt += 1\n",
    "\n",
    "    one_cnt = 0\n",
    "    for one in temp:\n",
    "        if '1' in one:\n",
    "            one_cnt += 1\n",
    "\n",
    "    if one_cnt < zero_cnt:\n",
    "        result = one_cnt\n",
    "\n",
    "    else:\n",
    "        result = zero_cnt\n",
    "        \n",
    "        \n",
    "    return result\n",
    "\n",
    "print(solution(S))"
   ]
  }
 ],
 "metadata": {
  "kernelspec": {
   "display_name": "Python 3 (ipykernel)",
   "language": "python",
   "name": "python3"
  },
  "language_info": {
   "codemirror_mode": {
    "name": "ipython",
    "version": 3
   },
   "file_extension": ".py",
   "mimetype": "text/x-python",
   "name": "python",
   "nbconvert_exporter": "python",
   "pygments_lexer": "ipython3",
   "version": "3.9.7"
  }
 },
 "nbformat": 4,
 "nbformat_minor": 5
}
