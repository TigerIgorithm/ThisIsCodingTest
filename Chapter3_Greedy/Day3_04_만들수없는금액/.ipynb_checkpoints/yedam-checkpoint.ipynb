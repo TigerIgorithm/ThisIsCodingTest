{
 "cells": [
  {
   "cell_type": "markdown",
   "id": "0241c755",
   "metadata": {},
   "source": [
    "## 230313"
   ]
  },
  {
   "cell_type": "code",
   "execution_count": 34,
   "id": "67b8e600",
   "metadata": {},
   "outputs": [],
   "source": [
    "def solution(coin):\n",
    "    result = 1\n",
    "\n",
    "    for i in coin:\n",
    "        if result < i:\n",
    "            break\n",
    "        result += i\n",
    "    \n",
    "    return result"
   ]
  },
  {
   "cell_type": "code",
   "execution_count": 39,
   "id": "53b5bb54",
   "metadata": {
    "scrolled": true
   },
   "outputs": [
    {
     "name": "stdout",
     "output_type": "stream",
     "text": [
      "5\n",
      "3 2 1 1 9\n"
     ]
    },
    {
     "data": {
      "text/plain": [
       "1"
      ]
     },
     "execution_count": 39,
     "metadata": {},
     "output_type": "execute_result"
    }
   ],
   "source": [
    "n = int(input())\n",
    "coin = list(map(int, input().split()))\n",
    "\n",
    "solution(coin)"
   ]
  }
 ],
 "metadata": {
  "kernelspec": {
   "display_name": "Python 3",
   "language": "python",
   "name": "python3"
  },
  "language_info": {
   "codemirror_mode": {
    "name": "ipython",
    "version": 3
   },
   "file_extension": ".py",
   "mimetype": "text/x-python",
   "name": "python",
   "nbconvert_exporter": "python",
   "pygments_lexer": "ipython3",
   "version": "3.9.2"
  }
 },
 "nbformat": 4,
 "nbformat_minor": 5
}
