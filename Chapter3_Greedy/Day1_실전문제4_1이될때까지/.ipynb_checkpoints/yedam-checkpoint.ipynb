{
 "cells": [
  {
   "cell_type": "markdown",
   "id": "90b492c5",
   "metadata": {},
   "source": [
    "## 23/03/08"
   ]
  },
  {
   "cell_type": "code",
   "execution_count": 1,
   "id": "778686fa",
   "metadata": {},
   "outputs": [],
   "source": [
    "def solution(n, k):\n",
    "    cnt = 0\n",
    "    while True:\n",
    "        if n % k == 0:\n",
    "            break\n",
    "        n -= 1\n",
    "        cnt +=1\n",
    "        \n",
    "    while True:\n",
    "        n /= k\n",
    "        cnt += 1\n",
    "        if n ==1:\n",
    "            break\n",
    "            \n",
    "    return cnt"
   ]
  },
  {
   "cell_type": "code",
   "execution_count": 2,
   "id": "98d262d0",
   "metadata": {},
   "outputs": [
    {
     "name": "stdout",
     "output_type": "stream",
     "text": [
      "17 4\n"
     ]
    },
    {
     "data": {
      "text/plain": [
       "3"
      ]
     },
     "execution_count": 2,
     "metadata": {},
     "output_type": "execute_result"
    }
   ],
   "source": [
    "n, k = map(int, input().split())\n",
    "\n",
    "solution(n, k)"
   ]
  },
  {
   "cell_type": "code",
   "execution_count": 3,
   "id": "baeb4f27",
   "metadata": {},
   "outputs": [
    {
     "name": "stdout",
     "output_type": "stream",
     "text": [
      "25 5\n"
     ]
    },
    {
     "data": {
      "text/plain": [
       "2"
      ]
     },
     "execution_count": 3,
     "metadata": {},
     "output_type": "execute_result"
    }
   ],
   "source": [
    "n, k = map(int, input().split())\n",
    "\n",
    "solution(n, k)"
   ]
  }
 ],
 "metadata": {
  "kernelspec": {
   "display_name": "Python 3 (ipykernel)",
   "language": "python",
   "name": "python3"
  },
  "language_info": {
   "codemirror_mode": {
    "name": "ipython",
    "version": 3
   },
   "file_extension": ".py",
   "mimetype": "text/x-python",
   "name": "python",
   "nbconvert_exporter": "python",
   "pygments_lexer": "ipython3",
   "version": "3.9.7"
  }
 },
 "nbformat": 4,
 "nbformat_minor": 5
}
