{
 "cells": [
  {
   "cell_type": "code",
   "execution_count": 5,
   "id": "b618cde3",
   "metadata": {},
   "outputs": [
    {
     "name": "stdout",
     "output_type": "stream",
     "text": [
      "25 3\n"
     ]
    }
   ],
   "source": [
    "N, K = map(int, input().split())"
   ]
  },
  {
   "cell_type": "markdown",
   "id": "1c719c21",
   "metadata": {},
   "source": [
    "실제 풀이 부분"
   ]
  },
  {
   "cell_type": "code",
   "execution_count": 2,
   "id": "c8439bc2",
   "metadata": {},
   "outputs": [
    {
     "name": "stdout",
     "output_type": "stream",
     "text": [
      "6\n"
     ]
    }
   ],
   "source": [
    "count = 0\n",
    "\n",
    "while True:\n",
    "    \n",
    "    # 반복문을 빠져나가는 조건\n",
    "    if N == 1:\n",
    "        break\n",
    "    \n",
    "    if N % K == 0:\n",
    "        N //= K\n",
    "        count += 1\n",
    "    else:\n",
    "        N -= 1\n",
    "        count += 1\n",
    "        \n",
    "print(count)"
   ]
  },
  {
   "cell_type": "markdown",
   "id": "d40cc761",
   "metadata": {},
   "source": [
    "#### !위에 문제를 실행하면 N의 값이 바뀌므로 실제 세팅부터 다시해야 정확한 값을 볼 수 있음"
   ]
  },
  {
   "cell_type": "markdown",
   "id": "947160ff",
   "metadata": {},
   "source": [
    "답안 1"
   ]
  },
  {
   "cell_type": "code",
   "execution_count": 4,
   "id": "22e45ca2",
   "metadata": {},
   "outputs": [
    {
     "name": "stdout",
     "output_type": "stream",
     "text": [
      "6\n"
     ]
    }
   ],
   "source": [
    "result = 0\n",
    "\n",
    "# N이 K이상이라면 K로 계속 나누기\n",
    "while N >= K:\n",
    "    \n",
    "    #N이 K로 나누어 떨어지지 않는다면 N에서  1씩 빼기\n",
    "    while N % K != 0:\n",
    "        N -= 1\n",
    "        result += 1\n",
    "    \n",
    "    N //= K\n",
    "    result += 1\n",
    "    \n",
    "#마지막으로 남은 수에 대하여 1씩 빼기\n",
    "while N > 1:\n",
    "    N -= 1\n",
    "    result += 1\n",
    "\n",
    "print(result)"
   ]
  },
  {
   "cell_type": "markdown",
   "id": "25ea092d",
   "metadata": {},
   "source": [
    "답안 2"
   ]
  },
  {
   "cell_type": "code",
   "execution_count": 6,
   "id": "7da67e56",
   "metadata": {},
   "outputs": [
    {
     "name": "stdout",
     "output_type": "stream",
     "text": [
      "6\n"
     ]
    }
   ],
   "source": [
    "result = 0\n",
    "\n",
    "while True:\n",
    "        \n",
    "    #(N == K로 나누어 떨어지는 수)가 될 때까지  1씩 빼기\n",
    "    target = (N // K) * K\n",
    "    result += (N - target)\n",
    "    N = target\n",
    "    \n",
    "    # N이 K보다 작을 때(더이상 나눌 수 없을 때) 반복물 탈출\n",
    "    if N < K:\n",
    "        break\n",
    "        \n",
    "    result += 1\n",
    "    N //= K\n",
    "\n",
    "#마지막으로 남은 수에 대하여 1씩 빼기\n",
    "result += (N - 1)\n",
    "print(result)"
   ]
  }
 ],
 "metadata": {
  "kernelspec": {
   "display_name": "Python 3 (ipykernel)",
   "language": "python",
   "name": "python3"
  },
  "language_info": {
   "codemirror_mode": {
    "name": "ipython",
    "version": 3
   },
   "file_extension": ".py",
   "mimetype": "text/x-python",
   "name": "python",
   "nbconvert_exporter": "python",
   "pygments_lexer": "ipython3",
   "version": "3.9.12"
  }
 },
 "nbformat": 4,
 "nbformat_minor": 5
}
