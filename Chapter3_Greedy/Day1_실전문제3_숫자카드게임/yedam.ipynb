{
 "cells": [
  {
   "cell_type": "markdown",
   "id": "083a6194",
   "metadata": {},
   "source": [
    "## 23/03/08"
   ]
  },
  {
   "cell_type": "code",
   "execution_count": 1,
   "id": "43344e92",
   "metadata": {},
   "outputs": [],
   "source": [
    "def solution(n, m):\n",
    "    data = []\n",
    "    \n",
    "    # 행렬 생성\n",
    "    for i in range(n):\n",
    "        data.append(list(map(int, input().split())))\n",
    "        \n",
    "    result = 0\n",
    "    for col in data:\n",
    "        if result < min(col):\n",
    "            result = min(col)\n",
    "            \n",
    "    return result"
   ]
  },
  {
   "cell_type": "code",
   "execution_count": 2,
   "id": "369e2ab7",
   "metadata": {},
   "outputs": [
    {
     "name": "stdout",
     "output_type": "stream",
     "text": [
      "3 3\n",
      "3 1 2\n",
      "4 1 4\n",
      "2 2 2\n"
     ]
    },
    {
     "data": {
      "text/plain": [
       "2"
      ]
     },
     "execution_count": 2,
     "metadata": {},
     "output_type": "execute_result"
    }
   ],
   "source": [
    "n, m = map(int, input().split())\n",
    "solution(n, m)"
   ]
  },
  {
   "cell_type": "code",
   "execution_count": 3,
   "id": "b48fe295",
   "metadata": {},
   "outputs": [
    {
     "name": "stdout",
     "output_type": "stream",
     "text": [
      "2 4\n",
      "7 3 1 8\n",
      "3 3 3 4\n"
     ]
    },
    {
     "data": {
      "text/plain": [
       "3"
      ]
     },
     "execution_count": 3,
     "metadata": {},
     "output_type": "execute_result"
    }
   ],
   "source": [
    "n, m = map(int, input().split())\n",
    "solution(n, m)"
   ]
  }
 ],
 "metadata": {
  "kernelspec": {
   "display_name": "Python 3 (ipykernel)",
   "language": "python",
   "name": "python3"
  },
  "language_info": {
   "codemirror_mode": {
    "name": "ipython",
    "version": 3
   },
   "file_extension": ".py",
   "mimetype": "text/x-python",
   "name": "python",
   "nbconvert_exporter": "python",
   "pygments_lexer": "ipython3",
   "version": "3.9.7"
  }
 },
 "nbformat": 4,
 "nbformat_minor": 5
}
