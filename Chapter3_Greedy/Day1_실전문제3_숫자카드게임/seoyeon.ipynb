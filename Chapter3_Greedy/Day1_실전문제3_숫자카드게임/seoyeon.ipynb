{
 "cells": [
  {
   "cell_type": "code",
   "execution_count": 1,
   "id": "cb7c995e",
   "metadata": {},
   "outputs": [
    {
     "name": "stdout",
     "output_type": "stream",
     "text": [
      "3 3\n"
     ]
    }
   ],
   "source": [
    "row, column = map(int, input().split())"
   ]
  },
  {
   "cell_type": "code",
   "execution_count": 2,
   "id": "b666436d",
   "metadata": {},
   "outputs": [
    {
     "name": "stdout",
     "output_type": "stream",
     "text": [
      "3\n",
      "<class 'int'>\n"
     ]
    }
   ],
   "source": [
    "print(row)\n",
    "print(type(row))"
   ]
  },
  {
   "cell_type": "code",
   "execution_count": 3,
   "id": "c2405458",
   "metadata": {},
   "outputs": [
    {
     "name": "stdout",
     "output_type": "stream",
     "text": [
      "3\n",
      "<class 'int'>\n"
     ]
    }
   ],
   "source": [
    "print(column)\n",
    "print(type(column))"
   ]
  },
  {
   "cell_type": "markdown",
   "id": "185aefe9",
   "metadata": {},
   "source": [
    "실제 풀이 부분"
   ]
  },
  {
   "cell_type": "code",
   "execution_count": 4,
   "id": "8bee867e",
   "metadata": {},
   "outputs": [
    {
     "name": "stdout",
     "output_type": "stream",
     "text": [
      "3 1 2\n",
      "4 1 4\n",
      "2 2 2\n",
      "2\n"
     ]
    }
   ],
   "source": [
    "result = 0\n",
    "\n",
    "for i in range(row):\n",
    "    element = list(map(int, input().split()))\n",
    "    \n",
    "    # 현재 줄에 있는 요소들 중에서 가장 작은 수를 now_small에 저장\n",
    "    now_small = min(element)\n",
    "    \n",
    "    if now_small > result:\n",
    "        result = now_small\n",
    "        \n",
    "print(result)"
   ]
  },
  {
   "cell_type": "markdown",
   "id": "7cde9de4",
   "metadata": {},
   "source": [
    "답안 1"
   ]
  },
  {
   "cell_type": "code",
   "execution_count": 5,
   "id": "5bf21bc1",
   "metadata": {},
   "outputs": [
    {
     "name": "stdout",
     "output_type": "stream",
     "text": [
      "3 1 2\n",
      "4 1 4\n",
      "2 2 2\n",
      "2\n"
     ]
    }
   ],
   "source": [
    "result = 0\n",
    "\n",
    "for i in range(row):\n",
    "    element = list(map(int, input().split()))\n",
    "    \n",
    "    # 현재 줄에 있는 요소들 중에서 가장 작은 수를 now_small에 저장\n",
    "    now_small = min(element)\n",
    "    \n",
    "    result = max(result, now_small)\n",
    "    \n",
    "print(result)"
   ]
  },
  {
   "cell_type": "markdown",
   "id": "45b9efc3",
   "metadata": {},
   "source": [
    "답안 2"
   ]
  },
  {
   "cell_type": "code",
   "execution_count": 6,
   "id": "a082c3b8",
   "metadata": {},
   "outputs": [
    {
     "name": "stdout",
     "output_type": "stream",
     "text": [
      "3 1 2\n",
      "4 1 4\n",
      "2 2 2\n",
      "2\n"
     ]
    }
   ],
   "source": [
    "result = 0\n",
    "\n",
    "for i in range(row):\n",
    "    element = list(map(int, input().split()))\n",
    "    \n",
    "    # 현재 줄에 있는 요소들 중에서 가장 작은 수를 now_small에 저장\n",
    "    now_small = 10001\n",
    "    \n",
    "    for a in element:\n",
    "        now_small = min(now_small, a)\n",
    "    \n",
    "    result = max(result, now_small)\n",
    "    \n",
    "print(result)"
   ]
  }
 ],
 "metadata": {
  "kernelspec": {
   "display_name": "Python 3 (ipykernel)",
   "language": "python",
   "name": "python3"
  },
  "language_info": {
   "codemirror_mode": {
    "name": "ipython",
    "version": 3
   },
   "file_extension": ".py",
   "mimetype": "text/x-python",
   "name": "python",
   "nbconvert_exporter": "python",
   "pygments_lexer": "ipython3",
   "version": "3.9.12"
  }
 },
 "nbformat": 4,
 "nbformat_minor": 5
}
