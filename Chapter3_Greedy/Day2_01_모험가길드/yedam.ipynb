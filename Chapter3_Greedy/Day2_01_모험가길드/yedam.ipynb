{
 "cells": [
  {
   "cell_type": "markdown",
   "id": "59dda997",
   "metadata": {},
   "source": [
    "## 23/03/10"
   ]
  },
  {
   "cell_type": "code",
   "execution_count": 45,
   "id": "5610cabb",
   "metadata": {},
   "outputs": [],
   "source": [
    "def solution(N, fear):\n",
    "    # 공포도 reverse로 정렬\n",
    "    fear.sort()\n",
    "    \n",
    "    group = []\n",
    "    temp = []\n",
    "    while True:\n",
    "        if len(fear) <= 0:\n",
    "            break\n",
    "            \n",
    "        max_value = max(fear)\n",
    "        temp = fear[:max_value - 1]\n",
    "        temp. append(max_value)\n",
    "        \n",
    "        group.append(temp)\n",
    "        del fear[:max_value - 1]\n",
    "        fear.remove(max_value)\n",
    "        \n",
    "    return len(group)"
   ]
  },
  {
   "cell_type": "code",
   "execution_count": 46,
   "id": "2a8283a7",
   "metadata": {},
   "outputs": [
    {
     "name": "stdout",
     "output_type": "stream",
     "text": [
      "5\n",
      "2 3 1 2 2\n"
     ]
    },
    {
     "data": {
      "text/plain": [
       "2"
      ]
     },
     "execution_count": 46,
     "metadata": {},
     "output_type": "execute_result"
    }
   ],
   "source": [
    "N = int(input())\n",
    "fear = list(map(int, input().split()))\n",
    "\n",
    "solution(N, fear)"
   ]
  },
  {
   "cell_type": "code",
   "execution_count": null,
   "id": "e602ddd5",
   "metadata": {},
   "outputs": [],
   "source": []
  }
 ],
 "metadata": {
  "kernelspec": {
   "display_name": "Python 3 (ipykernel)",
   "language": "python",
   "name": "python3"
  },
  "language_info": {
   "codemirror_mode": {
    "name": "ipython",
    "version": 3
   },
   "file_extension": ".py",
   "mimetype": "text/x-python",
   "name": "python",
   "nbconvert_exporter": "python",
   "pygments_lexer": "ipython3",
   "version": "3.9.7"
  }
 },
 "nbformat": 4,
 "nbformat_minor": 5
}
