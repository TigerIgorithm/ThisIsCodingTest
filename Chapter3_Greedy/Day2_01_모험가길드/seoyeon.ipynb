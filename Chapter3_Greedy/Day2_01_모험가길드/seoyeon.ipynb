{
 "cells": [
  {
   "cell_type": "markdown",
   "id": "7ff1d61e",
   "metadata": {},
   "source": [
    "그룹의 수가 많아야 하니까 그룹에 사람이 최대한 적을 수록 좋다\n",
    "\n",
    "☞ 공포도가 낮은 사람들을 기준으로 그룹 묶기"
   ]
  },
  {
   "cell_type": "code",
   "execution_count": 6,
   "id": "c8c6d3fb",
   "metadata": {},
   "outputs": [
    {
     "name": "stdout",
     "output_type": "stream",
     "text": [
      "5\n"
     ]
    }
   ],
   "source": [
    "N = int(input())"
   ]
  },
  {
   "cell_type": "code",
   "execution_count": 7,
   "id": "fbea2dc4",
   "metadata": {},
   "outputs": [
    {
     "name": "stdout",
     "output_type": "stream",
     "text": [
      "2 3 1 2 2\n"
     ]
    }
   ],
   "source": [
    "people = list(map(int, input().split()))"
   ]
  },
  {
   "cell_type": "code",
   "execution_count": 8,
   "id": "d686a6a3",
   "metadata": {},
   "outputs": [],
   "source": [
    "people.sort()"
   ]
  },
  {
   "cell_type": "code",
   "execution_count": 9,
   "id": "996a2f4c",
   "metadata": {},
   "outputs": [
    {
     "data": {
      "text/plain": [
       "[1, 2, 2, 2, 3]"
      ]
     },
     "execution_count": 9,
     "metadata": {},
     "output_type": "execute_result"
    }
   ],
   "source": [
    "people"
   ]
  },
  {
   "cell_type": "markdown",
   "id": "b4307f13",
   "metadata": {},
   "source": [
    "실제 문제 풀이"
   ]
  },
  {
   "cell_type": "code",
   "execution_count": 5,
   "id": "c02ad8f5",
   "metadata": {},
   "outputs": [
    {
     "name": "stdout",
     "output_type": "stream",
     "text": [
      "2\n"
     ]
    }
   ],
   "source": [
    "group = 0\n",
    "\n",
    "while True:\n",
    "    \n",
    "    group += 1\n",
    "    loop = people[0]\n",
    "    for i in range(loop):\n",
    "        del people[0]\n",
    "    \n",
    "    if (people[-1] >= len(people)):\n",
    "        break\n",
    "        \n",
    "print(group)"
   ]
  },
  {
   "cell_type": "markdown",
   "id": "edac63da",
   "metadata": {},
   "source": [
    "답안 1"
   ]
  },
  {
   "cell_type": "code",
   "execution_count": 10,
   "id": "9303fe00",
   "metadata": {},
   "outputs": [
    {
     "name": "stdout",
     "output_type": "stream",
     "text": [
      "2\n"
     ]
    }
   ],
   "source": [
    "# 총 그룹 수\n",
    "result = 0\n",
    "\n",
    "# 현재 그룹에 포함된 모험가의 수\n",
    "count = 0 \n",
    "\n",
    "# 공포도가 낮은 모험가부터 확인\n",
    "for i in people:\n",
    "    count += 1 # 현재 그룹에 해당 모험가 포함\n",
    "    \n",
    "    if count >= i:\n",
    "        result += 1\n",
    "        count = 0\n",
    "        \n",
    "print(result)"
   ]
  }
 ],
 "metadata": {
  "kernelspec": {
   "display_name": "Python 3 (ipykernel)",
   "language": "python",
   "name": "python3"
  },
  "language_info": {
   "codemirror_mode": {
    "name": "ipython",
    "version": 3
   },
   "file_extension": ".py",
   "mimetype": "text/x-python",
   "name": "python",
   "nbconvert_exporter": "python",
   "pygments_lexer": "ipython3",
   "version": "3.9.12"
  }
 },
 "nbformat": 4,
 "nbformat_minor": 5
}
