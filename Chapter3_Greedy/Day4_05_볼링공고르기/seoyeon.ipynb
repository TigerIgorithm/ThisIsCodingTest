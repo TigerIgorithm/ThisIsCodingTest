{
 "cells": [
  {
   "cell_type": "code",
   "execution_count": 1,
   "id": "b6c13b3d",
   "metadata": {},
   "outputs": [],
   "source": [
    "import math"
   ]
  },
  {
   "cell_type": "code",
   "execution_count": 7,
   "id": "ba729ff2",
   "metadata": {},
   "outputs": [
    {
     "name": "stdout",
     "output_type": "stream",
     "text": [
      "8 5\n"
     ]
    }
   ],
   "source": [
    "N, M = map(int, input().split())"
   ]
  },
  {
   "cell_type": "code",
   "execution_count": 8,
   "id": "7399502d",
   "metadata": {},
   "outputs": [
    {
     "name": "stdout",
     "output_type": "stream",
     "text": [
      "1 5 4 3 2 4 5 2\n"
     ]
    }
   ],
   "source": [
    "weight = list(map(int, input().split()))"
   ]
  },
  {
   "cell_type": "code",
   "execution_count": 4,
   "id": "6b6ce9a3",
   "metadata": {},
   "outputs": [
    {
     "data": {
      "text/plain": [
       "[1, 2, 1, 2, 2]"
      ]
     },
     "execution_count": 4,
     "metadata": {},
     "output_type": "execute_result"
    }
   ],
   "source": [
    "# 같은 무게가 몇개 있는지 순서대로 파악\n",
    "countlist = []\n",
    "\n",
    "for i in range(1, M+1):\n",
    "    countlist.append(weight.count(i))\n",
    "    \n",
    "countlist"
   ]
  },
  {
   "cell_type": "code",
   "execution_count": 5,
   "id": "b6a2e69e",
   "metadata": {},
   "outputs": [
    {
     "data": {
      "text/plain": [
       "28"
      ]
     },
     "execution_count": 5,
     "metadata": {},
     "output_type": "execute_result"
    }
   ],
   "source": [
    "result = math.comb(N, 2)\n",
    "result"
   ]
  },
  {
   "cell_type": "code",
   "execution_count": 6,
   "id": "1dc4a257",
   "metadata": {},
   "outputs": [
    {
     "name": "stdout",
     "output_type": "stream",
     "text": [
      "25\n"
     ]
    }
   ],
   "source": [
    "for i in countlist:\n",
    "    # 같은 무게가 2개 이상인 경우\n",
    "    if i >= 2:\n",
    "        result -= math.comb(i, 2)\n",
    "\n",
    "print(result)    "
   ]
  },
  {
   "cell_type": "markdown",
   "id": "61f673e2",
   "metadata": {},
   "source": [
    "답안 1"
   ]
  },
  {
   "cell_type": "markdown",
   "id": "b19f1a8f",
   "metadata": {},
   "source": [
    "A가 특정 볼링공을 선택했을 때 B가 선택할 수 있는 경우의 수를 합하여 답을 구하는 방식"
   ]
  },
  {
   "cell_type": "code",
   "execution_count": 9,
   "id": "0ff095bd",
   "metadata": {},
   "outputs": [
    {
     "data": {
      "text/plain": [
       "[0, 0, 0, 0, 0, 0, 0, 0, 0, 0, 0]"
      ]
     },
     "execution_count": 9,
     "metadata": {},
     "output_type": "execute_result"
    }
   ],
   "source": [
    "# 1부터 10까지의 무게를 담을 수 있는 리스트(1 <= M <= 10)\n",
    "array = [0] * 11\n",
    "array"
   ]
  },
  {
   "cell_type": "code",
   "execution_count": 10,
   "id": "a7a4b0a4",
   "metadata": {},
   "outputs": [
    {
     "data": {
      "text/plain": [
       "[0, 1, 2, 1, 2, 2, 0, 0, 0, 0, 0]"
      ]
     },
     "execution_count": 10,
     "metadata": {},
     "output_type": "execute_result"
    }
   ],
   "source": [
    "# 각 무게에 해당하는 볼링공의 개수 카운트\n",
    "for x in weight:\n",
    "    array[x] += 1\n",
    "\n",
    "array"
   ]
  },
  {
   "cell_type": "code",
   "execution_count": 11,
   "id": "5330998f",
   "metadata": {},
   "outputs": [
    {
     "name": "stdout",
     "output_type": "stream",
     "text": [
      "N: 7\n",
      "result: 7 \n",
      "\n",
      "N: 5\n",
      "result: 17 \n",
      "\n",
      "N: 4\n",
      "result: 21 \n",
      "\n",
      "N: 2\n",
      "result: 25 \n",
      "\n",
      "N: 0\n",
      "result: 25 \n",
      "\n",
      "최종 결과: 25\n"
     ]
    }
   ],
   "source": [
    "result = 0\n",
    "\n",
    "#1부터 M까지의 각 무게에 대하여 처리\n",
    "for i in range(1, M+1):\n",
    "    N -= array[i] # 무게가 i인 볼링공의 개수(A가 선택할 수 있는 개수) 제외\n",
    "    result += array[i] * N # B가 선택하는 경우의 수와 곱하기\n",
    "    print('N:', N)\n",
    "    print(\"result:\", result, '\\n')\n",
    "\n",
    "print('최종 결과:', result)"
   ]
  }
 ],
 "metadata": {
  "kernelspec": {
   "display_name": "Python 3 (ipykernel)",
   "language": "python",
   "name": "python3"
  },
  "language_info": {
   "codemirror_mode": {
    "name": "ipython",
    "version": 3
   },
   "file_extension": ".py",
   "mimetype": "text/x-python",
   "name": "python",
   "nbconvert_exporter": "python",
   "pygments_lexer": "ipython3",
   "version": "3.9.12"
  }
 },
 "nbformat": 4,
 "nbformat_minor": 5
}
