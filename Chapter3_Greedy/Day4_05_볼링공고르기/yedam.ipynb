{
 "cells": [
  {
   "cell_type": "markdown",
   "id": "624cf616",
   "metadata": {},
   "source": [
    "## 230313"
   ]
  },
  {
   "cell_type": "code",
   "execution_count": 31,
   "id": "cea3bc32",
   "metadata": {},
   "outputs": [],
   "source": [
    "def solution(n, m, ball):\n",
    "    all_case = int(len(ball) * (len(ball) - 1) / 2)\n",
    "    \n",
    "    dupli = 0\n",
    "    for i in range(m+1):\n",
    "        cnt_temp = ball.count(i)\n",
    "        if cnt_temp > 1:\n",
    "            dupli += int(cnt_temp * (cnt_temp - 1) /2)\n",
    "            \n",
    "    return all_case - dupli"
   ]
  },
  {
   "cell_type": "code",
   "execution_count": 32,
   "id": "8b03d19c",
   "metadata": {},
   "outputs": [
    {
     "name": "stdout",
     "output_type": "stream",
     "text": [
      "5 3\n",
      "1 3 2 3 2\n"
     ]
    },
    {
     "data": {
      "text/plain": [
       "8"
      ]
     },
     "execution_count": 32,
     "metadata": {},
     "output_type": "execute_result"
    }
   ],
   "source": [
    "n, m = map(int, input().split())\n",
    "ball = list(map(int, input().split()))\n",
    "\n",
    "solution(n, m, ball)"
   ]
  },
  {
   "cell_type": "code",
   "execution_count": null,
   "id": "0a7eee74",
   "metadata": {},
   "outputs": [],
   "source": []
  }
 ],
 "metadata": {
  "kernelspec": {
   "display_name": "Python 3 (ipykernel)",
   "language": "python",
   "name": "python3"
  },
  "language_info": {
   "codemirror_mode": {
    "name": "ipython",
    "version": 3
   },
   "file_extension": ".py",
   "mimetype": "text/x-python",
   "name": "python",
   "nbconvert_exporter": "python",
   "pygments_lexer": "ipython3",
   "version": "3.9.7"
  }
 },
 "nbformat": 4,
 "nbformat_minor": 5
}
