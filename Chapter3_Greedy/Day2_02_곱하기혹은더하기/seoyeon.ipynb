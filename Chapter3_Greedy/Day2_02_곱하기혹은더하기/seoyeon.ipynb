{
 "cells": [
  {
   "cell_type": "code",
   "execution_count": 1,
   "id": "81bc90b8",
   "metadata": {},
   "outputs": [
    {
     "name": "stdout",
     "output_type": "stream",
     "text": [
      "567\n"
     ]
    }
   ],
   "source": [
    "num = input()"
   ]
  },
  {
   "cell_type": "markdown",
   "id": "63c42922",
   "metadata": {},
   "source": [
    "실제 문제 풀이"
   ]
  },
  {
   "cell_type": "code",
   "execution_count": 2,
   "id": "110ed06b",
   "metadata": {},
   "outputs": [
    {
     "name": "stdout",
     "output_type": "stream",
     "text": [
      "210\n"
     ]
    }
   ],
   "source": [
    "result = int(num[0])\n",
    "\n",
    "for i in range(1, len(num)):\n",
    "    \n",
    "    # result값이나 현재 계산하고자하는 값이 0 또는 1일 경우 더해주는 것이 좋음\n",
    "    if result <= 1 or int(num[i]) <= 1:\n",
    "        result += int(num[i])\n",
    "    else:\n",
    "        result *= int(num[i])\n",
    "    \n",
    "print(result)"
   ]
  }
 ],
 "metadata": {
  "kernelspec": {
   "display_name": "Python 3 (ipykernel)",
   "language": "python",
   "name": "python3"
  },
  "language_info": {
   "codemirror_mode": {
    "name": "ipython",
    "version": 3
   },
   "file_extension": ".py",
   "mimetype": "text/x-python",
   "name": "python",
   "nbconvert_exporter": "python",
   "pygments_lexer": "ipython3",
   "version": "3.9.12"
  }
 },
 "nbformat": 4,
 "nbformat_minor": 5
}
