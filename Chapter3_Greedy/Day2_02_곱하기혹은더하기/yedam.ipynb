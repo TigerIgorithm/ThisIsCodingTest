{
 "cells": [
  {
   "cell_type": "code",
   "execution_count": 32,
   "id": "43ecde70",
   "metadata": {},
   "outputs": [],
   "source": [
    "def solution(num):\n",
    "    temp = list(num)\n",
    "    \n",
    "    result = int(temp[0])\n",
    "    temp = temp[1::]\n",
    "    \n",
    "    for n in temp:\n",
    "        plus, multi = 0, 0\n",
    "        plus = result + int(n)\n",
    "        multi = result * int(n)\n",
    "\n",
    "        if plus > multi:\n",
    "            result = plus\n",
    "\n",
    "        else:\n",
    "            result = multi\n",
    "            \n",
    "    return result"
   ]
  },
  {
   "cell_type": "code",
   "execution_count": 33,
   "id": "3eae2f13",
   "metadata": {},
   "outputs": [
    {
     "name": "stdout",
     "output_type": "stream",
     "text": [
      "02894\n"
     ]
    },
    {
     "data": {
      "text/plain": [
       "576"
      ]
     },
     "execution_count": 33,
     "metadata": {},
     "output_type": "execute_result"
    }
   ],
   "source": [
    "num = input()\n",
    "\n",
    "solution(num)"
   ]
  },
  {
   "cell_type": "code",
   "execution_count": 34,
   "id": "34f19b23",
   "metadata": {},
   "outputs": [
    {
     "name": "stdout",
     "output_type": "stream",
     "text": [
      "567\n"
     ]
    },
    {
     "data": {
      "text/plain": [
       "210"
      ]
     },
     "execution_count": 34,
     "metadata": {},
     "output_type": "execute_result"
    }
   ],
   "source": [
    "num = input()\n",
    "\n",
    "solution(num)"
   ]
  }
 ],
 "metadata": {
  "kernelspec": {
   "display_name": "Python 3 (ipykernel)",
   "language": "python",
   "name": "python3"
  },
  "language_info": {
   "codemirror_mode": {
    "name": "ipython",
    "version": 3
   },
   "file_extension": ".py",
   "mimetype": "text/x-python",
   "name": "python",
   "nbconvert_exporter": "python",
   "pygments_lexer": "ipython3",
   "version": "3.9.7"
  }
 },
 "nbformat": 4,
 "nbformat_minor": 5
}
