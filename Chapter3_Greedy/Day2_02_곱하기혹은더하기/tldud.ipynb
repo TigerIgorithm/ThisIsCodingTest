{
 "cells": [
  {
   "cell_type": "code",
   "execution_count": 11,
   "id": "572e62f6",
   "metadata": {},
   "outputs": [
    {
     "name": "stdout",
     "output_type": "stream",
     "text": [
      "567\n",
      "['5', '6', '7']\n"
     ]
    }
   ],
   "source": [
    "S = list(input())\n",
    "\n",
    "print(S)"
   ]
  },
  {
   "cell_type": "code",
   "execution_count": 12,
   "id": "168add9d",
   "metadata": {},
   "outputs": [
    {
     "name": "stdout",
     "output_type": "stream",
     "text": [
      "30\n",
      "210\n",
      "답 210\n"
     ]
    }
   ],
   "source": [
    "res = int(S[0])\n",
    "n = 0\n",
    "for i in S:\n",
    "    i = int(i)\n",
    "    if i <= 1:\n",
    "        res = res + int(S[n+1])\n",
    "    elif i == int(S[-1]):\n",
    "        break\n",
    "    else:\n",
    "        res = res * int(S[n+1])\n",
    "    n += 1\n",
    "    print(res)\n",
    "print(\"답\", res)"
   ]
  }
 ],
 "metadata": {
  "kernelspec": {
   "display_name": "Python 3",
   "language": "python",
   "name": "python3"
  },
  "language_info": {
   "codemirror_mode": {
    "name": "ipython",
    "version": 3
   },
   "file_extension": ".py",
   "mimetype": "text/x-python",
   "name": "python",
   "nbconvert_exporter": "python",
   "pygments_lexer": "ipython3",
   "version": "3.9.2"
  }
 },
 "nbformat": 4,
 "nbformat_minor": 5
}
